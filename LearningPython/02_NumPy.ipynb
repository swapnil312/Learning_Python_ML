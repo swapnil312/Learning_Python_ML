{
 "cells": [
  {
   "cell_type": "markdown",
   "id": "24c0594a-d7c9-4634-bcb3-2016c86aae8c",
   "metadata": {},
   "source": [
    "## NumPy"
   ]
  },
  {
   "cell_type": "markdown",
   "id": "731ee608-048d-47e7-8383-8d1c366199b7",
   "metadata": {},
   "source": [
    "##### NumPy is a general purpose array-processing package. It provides a high performance multidimensional array object, and tools for working with these arrays. It is the fundamental package for scientific computing with Python"
   ]
  },
  {
   "cell_type": "markdown",
   "id": "4c5dadd2-0bf6-474d-ab6a-d4fbd40abeba",
   "metadata": {},
   "source": [
    "### What is an array"
   ]
  },
  {
   "cell_type": "markdown",
   "id": "515331ec-d4d0-40f5-bf69-7b8f51529ef3",
   "metadata": {},
   "source": [
    "##### An array is a data structure that stores values of same data type. In python, this is the main difference between arrays and lists. While python can contain values corresponding to different data types, arrays in pythin can only contain values corresponding to same data type"
   ]
  },
  {
   "cell_type": "code",
   "execution_count": 1,
   "id": "73618812-f2b7-4969-a523-b16a2203c40d",
   "metadata": {},
   "outputs": [],
   "source": [
    "import numpy as np"
   ]
  },
  {
   "cell_type": "code",
   "execution_count": 9,
   "id": "d9129c69-8d35-4e4b-99ab-51c0b05fbace",
   "metadata": {},
   "outputs": [],
   "source": [
    "lst = [12,3,423,43,3]\n",
    "arr = np.array(lst)"
   ]
  },
  {
   "cell_type": "code",
   "execution_count": 10,
   "id": "1ab43e8a-b5de-4466-9b6a-0d0ed7423898",
   "metadata": {},
   "outputs": [
    {
     "data": {
      "text/plain": [
       "numpy.ndarray"
      ]
     },
     "execution_count": 10,
     "metadata": {},
     "output_type": "execute_result"
    }
   ],
   "source": [
    "type(arr)"
   ]
  },
  {
   "cell_type": "code",
   "execution_count": 11,
   "id": "40f72fee-7db0-4ecd-b07b-318873b5eaa7",
   "metadata": {},
   "outputs": [
    {
     "name": "stdout",
     "output_type": "stream",
     "text": [
      "[ 12   3 423  43   3]\n"
     ]
    }
   ],
   "source": [
    "print(arr)"
   ]
  },
  {
   "cell_type": "code",
   "execution_count": 12,
   "id": "3bb15ebc-efba-475f-9b1e-6d458f0f1c19",
   "metadata": {},
   "outputs": [
    {
     "data": {
      "text/plain": [
       "array([ 12,   3, 423,  43,   3])"
      ]
     },
     "execution_count": 12,
     "metadata": {},
     "output_type": "execute_result"
    }
   ],
   "source": [
    "arr"
   ]
  },
  {
   "cell_type": "code",
   "execution_count": 14,
   "id": "42df2517-f250-4551-8a8e-db8224944035",
   "metadata": {},
   "outputs": [
    {
     "data": {
      "text/plain": [
       "(5,)"
      ]
     },
     "execution_count": 14,
     "metadata": {},
     "output_type": "execute_result"
    }
   ],
   "source": [
    "arr.shape"
   ]
  },
  {
   "cell_type": "code",
   "execution_count": 15,
   "id": "519c1a0c-3029-420f-8dca-5635ec783cba",
   "metadata": {},
   "outputs": [
    {
     "data": {
      "text/plain": [
       "<function ndarray.reshape>"
      ]
     },
     "execution_count": 15,
     "metadata": {},
     "output_type": "execute_result"
    }
   ],
   "source": [
    "arr.reshape"
   ]
  },
  {
   "cell_type": "markdown",
   "id": "58273251-a621-40de-b3b6-c8ec727a83b2",
   "metadata": {},
   "source": [
    "#### Multidimensional Array"
   ]
  },
  {
   "cell_type": "code",
   "execution_count": 18,
   "id": "9788d055-486a-4948-ab6d-3b9aee0ceb94",
   "metadata": {},
   "outputs": [],
   "source": [
    "mylist1 = [1,2,3,4,5]\n",
    "mylist2 = [2,3,4,5,6]\n",
    "mylist3 = [3,4,5,6,7]\n",
    "\n",
    "twod_arr = np.array([mylist1, mylist2, mylist3])"
   ]
  },
  {
   "cell_type": "code",
   "execution_count": 19,
   "id": "1ab4c669-5c18-48cc-8151-889db9bdb7cb",
   "metadata": {},
   "outputs": [
    {
     "data": {
      "text/plain": [
       "array([[1, 2, 3, 4, 5],\n",
       "       [2, 3, 4, 5, 6],\n",
       "       [3, 4, 5, 6, 7]])"
      ]
     },
     "execution_count": 19,
     "metadata": {},
     "output_type": "execute_result"
    }
   ],
   "source": [
    "twod_arr"
   ]
  },
  {
   "cell_type": "code",
   "execution_count": 20,
   "id": "55254e3a-ae6e-40be-b6da-1a495244d8ff",
   "metadata": {},
   "outputs": [
    {
     "name": "stdout",
     "output_type": "stream",
     "text": [
      "[[1 2 3 4 5]\n",
      " [2 3 4 5 6]\n",
      " [3 4 5 6 7]]\n"
     ]
    }
   ],
   "source": [
    "print(twod_arr)"
   ]
  },
  {
   "cell_type": "code",
   "execution_count": 21,
   "id": "40f67690-bd0f-4829-8bc0-cb5b3d9ed2f5",
   "metadata": {},
   "outputs": [
    {
     "data": {
      "text/plain": [
       "(3, 5)"
      ]
     },
     "execution_count": 21,
     "metadata": {},
     "output_type": "execute_result"
    }
   ],
   "source": [
    "twod_arr.shape"
   ]
  },
  {
   "cell_type": "code",
   "execution_count": 25,
   "id": "fe3b57ba-ca1b-4763-8854-5becb82c1955",
   "metadata": {},
   "outputs": [
    {
     "data": {
      "text/plain": [
       "array([[1, 2, 3],\n",
       "       [4, 5, 2],\n",
       "       [3, 4, 5],\n",
       "       [6, 3, 4],\n",
       "       [5, 6, 7]])"
      ]
     },
     "execution_count": 25,
     "metadata": {},
     "output_type": "execute_result"
    }
   ],
   "source": [
    "twod_arr.reshape(5,3)"
   ]
  },
  {
   "cell_type": "code",
   "execution_count": 27,
   "id": "017185e5-ac96-44a8-8b9e-69dc3f061be1",
   "metadata": {},
   "outputs": [
    {
     "data": {
      "text/plain": [
       "array([[1, 2, 3, 4, 5, 2, 3, 4, 5, 6, 3, 4, 5, 6, 7]])"
      ]
     },
     "execution_count": 27,
     "metadata": {},
     "output_type": "execute_result"
    }
   ],
   "source": [
    "twod_arr.reshape(1,15) #two dimensional"
   ]
  },
  {
   "cell_type": "code",
   "execution_count": 28,
   "id": "ff84c89d-8b7f-4a91-b5f4-05c99502181b",
   "metadata": {},
   "outputs": [
    {
     "data": {
      "text/plain": [
       "array([ 12,   3, 423,  43,   3])"
      ]
     },
     "execution_count": 28,
     "metadata": {},
     "output_type": "execute_result"
    }
   ],
   "source": [
    "arr"
   ]
  },
  {
   "cell_type": "code",
   "execution_count": 29,
   "id": "b07dbabf-64d1-4fd6-8593-e5b23757c7c2",
   "metadata": {},
   "outputs": [
    {
     "data": {
      "text/plain": [
       "423"
      ]
     },
     "execution_count": 29,
     "metadata": {},
     "output_type": "execute_result"
    }
   ],
   "source": [
    "arr[2]"
   ]
  },
  {
   "cell_type": "code",
   "execution_count": 30,
   "id": "c5ad2211-155d-4eb3-b7c7-1f86975fe57a",
   "metadata": {},
   "outputs": [
    {
     "data": {
      "text/plain": [
       "array([[1, 2, 3, 4, 5],\n",
       "       [2, 3, 4, 5, 6],\n",
       "       [3, 4, 5, 6, 7]])"
      ]
     },
     "execution_count": 30,
     "metadata": {},
     "output_type": "execute_result"
    }
   ],
   "source": [
    "twod_arr"
   ]
  },
  {
   "cell_type": "code",
   "execution_count": 31,
   "id": "4cd05ed7-c83d-4305-b574-7099dd1f7417",
   "metadata": {},
   "outputs": [
    {
     "data": {
      "text/plain": [
       "4"
      ]
     },
     "execution_count": 31,
     "metadata": {},
     "output_type": "execute_result"
    }
   ],
   "source": [
    "twod_arr[1][2]"
   ]
  },
  {
   "cell_type": "code",
   "execution_count": 32,
   "id": "4be5644a-b40c-4938-a4f0-cee8c0156a7c",
   "metadata": {},
   "outputs": [
    {
     "data": {
      "text/plain": [
       "4"
      ]
     },
     "execution_count": 32,
     "metadata": {},
     "output_type": "execute_result"
    }
   ],
   "source": [
    "twod_arr[1,2]"
   ]
  },
  {
   "cell_type": "code",
   "execution_count": 33,
   "id": "b5110539-e61e-4cb3-8b47-b1a86dc0b7f3",
   "metadata": {},
   "outputs": [
    {
     "data": {
      "text/plain": [
       "array([[1, 2, 3, 4, 5],\n",
       "       [2, 3, 4, 5, 6],\n",
       "       [3, 4, 5, 6, 7]])"
      ]
     },
     "execution_count": 33,
     "metadata": {},
     "output_type": "execute_result"
    }
   ],
   "source": [
    "twod_arr[:,:] # [row index, column index]"
   ]
  },
  {
   "cell_type": "code",
   "execution_count": 35,
   "id": "57bd85b8-1299-43d6-a81b-214935a24189",
   "metadata": {},
   "outputs": [
    {
     "data": {
      "text/plain": [
       "array([[1, 2],\n",
       "       [2, 3]])"
      ]
     },
     "execution_count": 35,
     "metadata": {},
     "output_type": "execute_result"
    }
   ],
   "source": [
    "twod_arr[:2,:2]   #twod_arr[0:2,0:2]"
   ]
  },
  {
   "cell_type": "code",
   "execution_count": 36,
   "id": "2b2c8173-29f6-4045-a550-5af6a088a642",
   "metadata": {},
   "outputs": [
    {
     "data": {
      "text/plain": [
       "array([[5, 6],\n",
       "       [6, 7]])"
      ]
     },
     "execution_count": 36,
     "metadata": {},
     "output_type": "execute_result"
    }
   ],
   "source": [
    "twod_arr[1:,3:]"
   ]
  },
  {
   "cell_type": "code",
   "execution_count": 38,
   "id": "a788f346-b3e4-4e23-a96a-6a20ea19a36d",
   "metadata": {},
   "outputs": [],
   "source": [
    "arr = np.arange(0,10)"
   ]
  },
  {
   "cell_type": "code",
   "execution_count": 39,
   "id": "8f743ca4-3851-4490-8b57-f04b39633c36",
   "metadata": {},
   "outputs": [
    {
     "data": {
      "text/plain": [
       "array([0, 1, 2, 3, 4, 5, 6, 7, 8, 9])"
      ]
     },
     "execution_count": 39,
     "metadata": {},
     "output_type": "execute_result"
    }
   ],
   "source": [
    "arr"
   ]
  },
  {
   "cell_type": "code",
   "execution_count": 40,
   "id": "9f715285-0c3c-425f-b873-4504875288e3",
   "metadata": {},
   "outputs": [],
   "source": [
    "arr = np.arange(0,20,2)"
   ]
  },
  {
   "cell_type": "code",
   "execution_count": 41,
   "id": "c459cfec-ef40-4940-98c2-ae867f485453",
   "metadata": {},
   "outputs": [
    {
     "data": {
      "text/plain": [
       "array([ 0,  2,  4,  6,  8, 10, 12, 14, 16, 18])"
      ]
     },
     "execution_count": 41,
     "metadata": {},
     "output_type": "execute_result"
    }
   ],
   "source": [
    "arr"
   ]
  },
  {
   "cell_type": "code",
   "execution_count": 42,
   "id": "b3ac8355-4f19-4042-b796-732155779dfc",
   "metadata": {},
   "outputs": [
    {
     "data": {
      "text/plain": [
       "array([ 1.        ,  1.15254237,  1.30508475,  1.45762712,  1.61016949,\n",
       "        1.76271186,  1.91525424,  2.06779661,  2.22033898,  2.37288136,\n",
       "        2.52542373,  2.6779661 ,  2.83050847,  2.98305085,  3.13559322,\n",
       "        3.28813559,  3.44067797,  3.59322034,  3.74576271,  3.89830508,\n",
       "        4.05084746,  4.20338983,  4.3559322 ,  4.50847458,  4.66101695,\n",
       "        4.81355932,  4.96610169,  5.11864407,  5.27118644,  5.42372881,\n",
       "        5.57627119,  5.72881356,  5.88135593,  6.03389831,  6.18644068,\n",
       "        6.33898305,  6.49152542,  6.6440678 ,  6.79661017,  6.94915254,\n",
       "        7.10169492,  7.25423729,  7.40677966,  7.55932203,  7.71186441,\n",
       "        7.86440678,  8.01694915,  8.16949153,  8.3220339 ,  8.47457627,\n",
       "        8.62711864,  8.77966102,  8.93220339,  9.08474576,  9.23728814,\n",
       "        9.38983051,  9.54237288,  9.69491525,  9.84745763, 10.        ])"
      ]
     },
     "execution_count": 42,
     "metadata": {},
     "output_type": "execute_result"
    }
   ],
   "source": [
    "np.linspace(1,10,60)"
   ]
  },
  {
   "cell_type": "code",
   "execution_count": 45,
   "id": "9446a5e8-e796-4714-b6b9-b280b1d8a06b",
   "metadata": {},
   "outputs": [
    {
     "data": {
      "text/plain": [
       "array([ 1.        ,  1.18367347,  1.36734694,  1.55102041,  1.73469388,\n",
       "        1.91836735,  2.10204082,  2.28571429,  2.46938776,  2.65306122,\n",
       "        2.83673469,  3.02040816,  3.20408163,  3.3877551 ,  3.57142857,\n",
       "        3.75510204,  3.93877551,  4.12244898,  4.30612245,  4.48979592,\n",
       "        4.67346939,  4.85714286,  5.04081633,  5.2244898 ,  5.40816327,\n",
       "        5.59183673,  5.7755102 ,  5.95918367,  6.14285714,  6.32653061,\n",
       "        6.51020408,  6.69387755,  6.87755102,  7.06122449,  7.24489796,\n",
       "        7.42857143,  7.6122449 ,  7.79591837,  7.97959184,  8.16326531,\n",
       "        8.34693878,  8.53061224,  8.71428571,  8.89795918,  9.08163265,\n",
       "        9.26530612,  9.44897959,  9.63265306,  9.81632653, 10.        ])"
      ]
     },
     "execution_count": 45,
     "metadata": {},
     "output_type": "execute_result"
    }
   ],
   "source": [
    "np.linspace(1,10) # default 50"
   ]
  },
  {
   "cell_type": "code",
   "execution_count": 46,
   "id": "b6961e13-e188-40f9-8022-e2863cbe7f04",
   "metadata": {},
   "outputs": [],
   "source": [
    "# copy function and broadcasting\n",
    "arr[3:] = 20"
   ]
  },
  {
   "cell_type": "code",
   "execution_count": 47,
   "id": "b84887ec-2cb4-4f35-8ce2-28b41c16a300",
   "metadata": {},
   "outputs": [
    {
     "data": {
      "text/plain": [
       "array([ 0,  2,  4, 20, 20, 20, 20, 20, 20, 20])"
      ]
     },
     "execution_count": 47,
     "metadata": {},
     "output_type": "execute_result"
    }
   ],
   "source": [
    "arr"
   ]
  },
  {
   "cell_type": "code",
   "execution_count": 48,
   "id": "a8a6d7b8-018d-41fc-9b75-054b35c690c5",
   "metadata": {},
   "outputs": [],
   "source": [
    "arr1 = arr"
   ]
  },
  {
   "cell_type": "code",
   "execution_count": 49,
   "id": "fe52ca6d-7545-48d8-9e9d-76f5b0fedd3b",
   "metadata": {},
   "outputs": [
    {
     "data": {
      "text/plain": [
       "array([ 0,  2,  4, 20, 20, 20, 20, 20, 20, 20])"
      ]
     },
     "execution_count": 49,
     "metadata": {},
     "output_type": "execute_result"
    }
   ],
   "source": [
    "arr1"
   ]
  },
  {
   "cell_type": "code",
   "execution_count": 50,
   "id": "b575db81-2683-4003-af42-83bf758b122c",
   "metadata": {},
   "outputs": [],
   "source": [
    "arr1[3:] = 400"
   ]
  },
  {
   "cell_type": "code",
   "execution_count": 51,
   "id": "90c640af-5d9c-47d4-a37e-d49788174bf4",
   "metadata": {},
   "outputs": [
    {
     "data": {
      "text/plain": [
       "array([  0,   2,   4, 400, 400, 400, 400, 400, 400, 400])"
      ]
     },
     "execution_count": 51,
     "metadata": {},
     "output_type": "execute_result"
    }
   ],
   "source": [
    "arr1"
   ]
  },
  {
   "cell_type": "code",
   "execution_count": 52,
   "id": "64ffa11e-b755-4287-b18a-bc2d9fc89292",
   "metadata": {},
   "outputs": [
    {
     "data": {
      "text/plain": [
       "array([  0,   2,   4, 400, 400, 400, 400, 400, 400, 400])"
      ]
     },
     "execution_count": 52,
     "metadata": {},
     "output_type": "execute_result"
    }
   ],
   "source": [
    "arr"
   ]
  },
  {
   "cell_type": "code",
   "execution_count": 53,
   "id": "71e775ec-c8af-42b8-a823-5a3ac51f42d4",
   "metadata": {},
   "outputs": [],
   "source": [
    "a = 10\n",
    "b = a\n",
    "b = 20"
   ]
  },
  {
   "cell_type": "code",
   "execution_count": 54,
   "id": "cb692956-451f-4256-b451-90ba31d4875f",
   "metadata": {},
   "outputs": [
    {
     "data": {
      "text/plain": [
       "10"
      ]
     },
     "execution_count": 54,
     "metadata": {},
     "output_type": "execute_result"
    }
   ],
   "source": [
    "a"
   ]
  },
  {
   "cell_type": "code",
   "execution_count": 55,
   "id": "30d3b431-1c2a-4ff7-9b37-eef8cb5598de",
   "metadata": {},
   "outputs": [
    {
     "data": {
      "text/plain": [
       "20"
      ]
     },
     "execution_count": 55,
     "metadata": {},
     "output_type": "execute_result"
    }
   ],
   "source": [
    "b"
   ]
  },
  {
   "cell_type": "code",
   "execution_count": 56,
   "id": "b22b27c0-07bd-4edf-aab9-1703045dafb2",
   "metadata": {},
   "outputs": [],
   "source": [
    "# arr is reference type\n",
    "# to prevent this we have copy function"
   ]
  },
  {
   "cell_type": "code",
   "execution_count": 57,
   "id": "10aa0d30-3c97-45b0-a0af-f60e20b78cbc",
   "metadata": {},
   "outputs": [],
   "source": [
    "arr1 = arr.copy()"
   ]
  },
  {
   "cell_type": "code",
   "execution_count": 58,
   "id": "c043f66e-dbc3-4335-b95c-f2232d9bee77",
   "metadata": {},
   "outputs": [],
   "source": [
    "arr1[3:] = 10000"
   ]
  },
  {
   "cell_type": "code",
   "execution_count": 59,
   "id": "a0a78a9c-acff-408b-a122-525226971338",
   "metadata": {},
   "outputs": [
    {
     "data": {
      "text/plain": [
       "array([    0,     2,     4, 10000, 10000, 10000, 10000, 10000, 10000,\n",
       "       10000])"
      ]
     },
     "execution_count": 59,
     "metadata": {},
     "output_type": "execute_result"
    }
   ],
   "source": [
    "arr1"
   ]
  },
  {
   "cell_type": "code",
   "execution_count": 60,
   "id": "3a20a751-f124-4597-a352-66ffa2ef99ec",
   "metadata": {},
   "outputs": [
    {
     "data": {
      "text/plain": [
       "array([  0,   2,   4, 400, 400, 400, 400, 400, 400, 400])"
      ]
     },
     "execution_count": 60,
     "metadata": {},
     "output_type": "execute_result"
    }
   ],
   "source": [
    "arr"
   ]
  },
  {
   "cell_type": "code",
   "execution_count": 61,
   "id": "69d990b5-5f14-44ff-a7f3-4a30264f135c",
   "metadata": {},
   "outputs": [],
   "source": [
    "# Some conditions very useful in exploratory data analysis"
   ]
  },
  {
   "cell_type": "code",
   "execution_count": 63,
   "id": "a818e23e-5e51-468e-8703-35c0ad53e82f",
   "metadata": {},
   "outputs": [
    {
     "data": {
      "text/plain": [
       "array([ True, False, False, False, False, False, False, False, False,\n",
       "       False])"
      ]
     },
     "execution_count": 63,
     "metadata": {},
     "output_type": "execute_result"
    }
   ],
   "source": [
    "val = 2\n",
    "arr<2 # checks for each and every element"
   ]
  },
  {
   "cell_type": "code",
   "execution_count": 64,
   "id": "9fd8abf7-98e7-4180-b63b-73b87970ef5e",
   "metadata": {},
   "outputs": [
    {
     "data": {
      "text/plain": [
       "array([  0,   4,   8, 800, 800, 800, 800, 800, 800, 800])"
      ]
     },
     "execution_count": 64,
     "metadata": {},
     "output_type": "execute_result"
    }
   ],
   "source": [
    "arr*2"
   ]
  },
  {
   "cell_type": "code",
   "execution_count": 67,
   "id": "fbdcdcc2-3788-4abb-8d94-a1577ffeca7e",
   "metadata": {},
   "outputs": [
    {
     "data": {
      "text/plain": [
       "[1, 2, 3, 1, 2, 3]"
      ]
     },
     "execution_count": 67,
     "metadata": {},
     "output_type": "execute_result"
    }
   ],
   "source": [
    "lst = [1,2,3]\n",
    "lst*2"
   ]
  },
  {
   "cell_type": "code",
   "execution_count": 65,
   "id": "79bc2390-2f90-4315-81f2-9f90eb286642",
   "metadata": {},
   "outputs": [
    {
     "data": {
      "text/plain": [
       "array([  0.,   1.,   2., 200., 200., 200., 200., 200., 200., 200.])"
      ]
     },
     "execution_count": 65,
     "metadata": {},
     "output_type": "execute_result"
    }
   ],
   "source": [
    "arr/2"
   ]
  },
  {
   "cell_type": "code",
   "execution_count": 68,
   "id": "709b87c2-576f-4054-8251-d6b7e5b46408",
   "metadata": {},
   "outputs": [
    {
     "data": {
      "text/plain": [
       "array([ True, False, False, False, False, False, False, False, False,\n",
       "       False])"
      ]
     },
     "execution_count": 68,
     "metadata": {},
     "output_type": "execute_result"
    }
   ],
   "source": [
    "arr<2"
   ]
  },
  {
   "cell_type": "code",
   "execution_count": 70,
   "id": "a48878a6-2e99-487d-aad7-354080b97030",
   "metadata": {},
   "outputs": [
    {
     "data": {
      "text/plain": [
       "array([0, 2, 4])"
      ]
     },
     "execution_count": 70,
     "metadata": {},
     "output_type": "execute_result"
    }
   ],
   "source": [
    "arr[arr<300]"
   ]
  },
  {
   "cell_type": "code",
   "execution_count": 80,
   "id": "b01ebf92-9b3b-4a91-a65b-80eb8f72bc2e",
   "metadata": {},
   "outputs": [],
   "source": [
    "# create arrays and reshape\n",
    "axr = np.arange(0,10).reshape(5,2)"
   ]
  },
  {
   "cell_type": "code",
   "execution_count": 81,
   "id": "1d501e1d-d7cd-4f93-b5ac-6c20c79265b8",
   "metadata": {},
   "outputs": [
    {
     "data": {
      "text/plain": [
       "array([[0, 1],\n",
       "       [2, 3],\n",
       "       [4, 5],\n",
       "       [6, 7],\n",
       "       [8, 9]])"
      ]
     },
     "execution_count": 81,
     "metadata": {},
     "output_type": "execute_result"
    }
   ],
   "source": [
    "axr"
   ]
  },
  {
   "cell_type": "code",
   "execution_count": 77,
   "id": "b1cd7fcb-d947-4634-a6eb-58243ea00fb3",
   "metadata": {},
   "outputs": [],
   "source": [
    "arr1 = np.arange(0,10).reshape(5,2)\n",
    "arr2 = np.arange(0,10).reshape(5,2)\n",
    "arr3 = arr1*arr2"
   ]
  },
  {
   "cell_type": "code",
   "execution_count": 78,
   "id": "301effe5-a897-40fc-bb7a-ceb6eda20298",
   "metadata": {},
   "outputs": [
    {
     "data": {
      "text/plain": [
       "array([[ 0,  1],\n",
       "       [ 4,  9],\n",
       "       [16, 25],\n",
       "       [36, 49],\n",
       "       [64, 81]])"
      ]
     },
     "execution_count": 78,
     "metadata": {},
     "output_type": "execute_result"
    }
   ],
   "source": [
    "arr3"
   ]
  },
  {
   "cell_type": "code",
   "execution_count": 79,
   "id": "74519bd6-fe31-4fa6-8416-663c33b0a44d",
   "metadata": {},
   "outputs": [
    {
     "data": {
      "text/plain": [
       "array([[0, 1],\n",
       "       [2, 3],\n",
       "       [4, 5],\n",
       "       [6, 7],\n",
       "       [8, 9]])"
      ]
     },
     "execution_count": 79,
     "metadata": {},
     "output_type": "execute_result"
    }
   ],
   "source": [
    "arr2"
   ]
  },
  {
   "cell_type": "code",
   "execution_count": 82,
   "id": "a2aaa964-fb74-4584-beff-ebfbd461d590",
   "metadata": {},
   "outputs": [
    {
     "data": {
      "text/plain": [
       "array([1., 1., 1., 1., 1., 1., 1., 1., 1., 1.])"
      ]
     },
     "execution_count": 82,
     "metadata": {},
     "output_type": "execute_result"
    }
   ],
   "source": [
    "np.ones(10)"
   ]
  },
  {
   "cell_type": "code",
   "execution_count": 84,
   "id": "df4de7fc-94d1-48de-b4e8-3de49d5769be",
   "metadata": {},
   "outputs": [
    {
     "data": {
      "text/plain": [
       "array([1, 1, 1, 1, 1, 1, 1, 1, 1, 1])"
      ]
     },
     "execution_count": 84,
     "metadata": {},
     "output_type": "execute_result"
    }
   ],
   "source": [
    "np.ones(10, dtype=int)"
   ]
  },
  {
   "cell_type": "code",
   "execution_count": 86,
   "id": "bd559e34-a394-4606-b358-b782952c9758",
   "metadata": {},
   "outputs": [
    {
     "data": {
      "text/plain": [
       "array([[1., 1., 1., 1., 1.],\n",
       "       [1., 1., 1., 1., 1.]])"
      ]
     },
     "execution_count": 86,
     "metadata": {},
     "output_type": "execute_result"
    }
   ],
   "source": [
    "np.ones((2,5), dtype = float)"
   ]
  },
  {
   "cell_type": "code",
   "execution_count": 88,
   "id": "dca3acb9-5a88-44f6-bc6d-c961e162927f",
   "metadata": {},
   "outputs": [
    {
     "data": {
      "text/plain": [
       "array([[0.46333883, 0.70795326, 0.3617546 ],\n",
       "       [0.03585084, 0.79081959, 0.73299483],\n",
       "       [0.49171339, 0.7076165 , 0.42803314]])"
      ]
     },
     "execution_count": 88,
     "metadata": {},
     "output_type": "execute_result"
    }
   ],
   "source": [
    "np.random.rand(3,3)"
   ]
  },
  {
   "cell_type": "code",
   "execution_count": 92,
   "id": "9b449a04-3a2d-4310-a880-af8921471ead",
   "metadata": {},
   "outputs": [],
   "source": [
    "rand_arr = np.random.randn(4,4)"
   ]
  },
  {
   "cell_type": "code",
   "execution_count": 93,
   "id": "360dbd8e-3233-4745-a9b3-f07edc89903a",
   "metadata": {},
   "outputs": [],
   "source": [
    "import seaborn as sns\n",
    "import pandas as pd"
   ]
  },
  {
   "cell_type": "code",
   "execution_count": 99,
   "id": "4149a519-c401-4782-9d60-a93488c3e83b",
   "metadata": {},
   "outputs": [
    {
     "name": "stderr",
     "output_type": "stream",
     "text": [
      "C:\\Users\\swapn\\AppData\\Local\\Temp\\ipykernel_2492\\3129974825.py:1: UserWarning: \n",
      "\n",
      "`distplot` is a deprecated function and will be removed in seaborn v0.14.0.\n",
      "\n",
      "Please adapt your code to use either `displot` (a figure-level function with\n",
      "similar flexibility) or `histplot` (an axes-level function for histograms).\n",
      "\n",
      "For a guide to updating your code to use the new functions, please see\n",
      "https://gist.github.com/mwaskom/de44147ed2974457ad6372750bbe5751\n",
      "\n",
      "  sns.distplot(pd.DataFrame(rand_arr.reshape(16,1)))\n"
     ]
    },
    {
     "data": {
      "text/plain": [
       "<Axes: ylabel='Density'>"
      ]
     },
     "execution_count": 99,
     "metadata": {},
     "output_type": "execute_result"
    },
    {
     "data": {
      "image/png": "[encoded data removed]",
      "text/plain": [
       "<Figure size 640x480 with 1 Axes>"
      ]
     },
     "metadata": {},
     "output_type": "display_data"
    }
   ],
   "source": [
    "sns.distplot(pd.DataFrame(rand_arr.reshape(16,1)))"
   ]
  },
  {
   "cell_type": "code",
   "execution_count": 100,
   "id": "5b64e361-6d87-47ca-a465-02682c28c03b",
   "metadata": {},
   "outputs": [
    {
     "data": {
      "text/plain": [
       "array([41, 29, 35, 54, 82, 42, 73, 43, 28, 90])"
      ]
     },
     "execution_count": 100,
     "metadata": {},
     "output_type": "execute_result"
    }
   ],
   "source": [
    "np.random.randint(0,100,10)"
   ]
  },
  {
   "cell_type": "code",
   "execution_count": 101,
   "id": "e9ab6666-6b83-4c36-a54f-b7d5e211d728",
   "metadata": {},
   "outputs": [
    {
     "data": {
      "text/plain": [
       "array([[94, 98],\n",
       "       [30, 49],\n",
       "       [35, 68],\n",
       "       [45, 51],\n",
       "       [91, 68]])"
      ]
     },
     "execution_count": 101,
     "metadata": {},
     "output_type": "execute_result"
    }
   ],
   "source": [
    "np.random.randint(0,100,10).reshape(5,2)"
   ]
  },
  {
   "cell_type": "code",
   "execution_count": 102,
   "id": "e123318e-8115-4788-bf31-ac7998d1a5f3",
   "metadata": {},
   "outputs": [
    {
     "data": {
      "text/plain": [
       "array([[0.42692355, 0.71405833, 0.02472652, 0.32473503, 0.93502169]])"
      ]
     },
     "execution_count": 102,
     "metadata": {},
     "output_type": "execute_result"
    }
   ],
   "source": [
    "np.random.random_sample((1,5))"
   ]
  },
  {
   "cell_type": "code",
   "execution_count": null,
   "id": "0a136177-42bd-44cd-9d7a-818d2d53de65",
   "metadata": {},
   "outputs": [],
   "source": []
  }
 ],
 "metadata": {
  "kernelspec": {
   "display_name": "Python 3 (ipykernel)",
   "language": "python",
   "name": "python3"
  },
  "language_info": {
   "codemirror_mode": {
    "name": "ipython",
    "version": 3
   },
   "file_extension": ".py",
   "mimetype": "text/x-python",
   "name": "python",
   "nbconvert_exporter": "python",
   "pygments_lexer": "ipython3",
   "version": "3.12.1"
  }
 },
 "nbformat": 4,
 "nbformat_minor": 5
}
