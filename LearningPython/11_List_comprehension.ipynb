{
 "cells": [
  {
   "cell_type": "markdown",
   "id": "c3e350dd-80ec-49a8-a492-773e6614b3dc",
   "metadata": {},
   "source": [
    "## List Comprehension\n",
    "##### List comprehension provide a concise way to create lists. It consists of brackets containing an expressionfollowed by a for clause, then zero or more for or if clauses. The expressions can be anything, meaning you can put in all kinds of objects in lists"
   ]
  },
  {
   "cell_type": "code",
   "execution_count": null,
   "id": "74c3e82b-a2fb-49d9-ab17-51e966ba2268",
   "metadata": {},
   "outputs": [],
   "source": []
  }
 ],
 "metadata": {
  "kernelspec": {
   "display_name": "Python 3 (ipykernel)",
   "language": "python",
   "name": "python3"
  },
  "language_info": {
   "codemirror_mode": {
    "name": "ipython",
    "version": 3
   },
   "file_extension": ".py",
   "mimetype": "text/x-python",
   "name": "python",
   "nbconvert_exporter": "python",
   "pygments_lexer": "ipython3",
   "version": "3.12.1"
  }
 },
 "nbformat": 4,
 "nbformat_minor": 5
}
