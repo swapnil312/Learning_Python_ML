{
 "cells": [
  {
   "cell_type": "markdown",
   "id": "3796af71-82b2-4ba8-8935-ed6b1d2b388f",
   "metadata": {},
   "source": [
    "# Python Basics\n",
    "## Welcome\n",
    "- i am a bullet"
   ]
  },
  {
   "cell_type": "markdown",
   "id": "a526beca-9626-446d-8a5b-53db40cc08a4",
   "metadata": {},
   "source": [
    "### DataType"
   ]
  },
  {
   "cell_type": "code",
   "execution_count": 1,
   "id": "f70342ed-f1f1-48d4-81bc-dd18dcef68af",
   "metadata": {},
   "outputs": [
    {
     "data": {
      "text/plain": [
       "6"
      ]
     },
     "execution_count": 1,
     "metadata": {},
     "output_type": "execute_result"
    }
   ],
   "source": [
    "1+5"
   ]
  },
  {
   "cell_type": "code",
   "execution_count": 2,
   "id": "f2a83dee-18f2-41e5-aec0-5ac5ab5ce6e9",
   "metadata": {},
   "outputs": [
    {
     "data": {
      "text/plain": [
       "100"
      ]
     },
     "execution_count": 2,
     "metadata": {},
     "output_type": "execute_result"
    }
   ],
   "source": [
    "10**2"
   ]
  },
  {
   "cell_type": "code",
   "execution_count": 3,
   "id": "e0acfadb-557e-4482-b644-fa23fe172b31",
   "metadata": {},
   "outputs": [
    {
     "data": {
      "text/plain": [
       "3.3333333333333335"
      ]
     },
     "execution_count": 3,
     "metadata": {},
     "output_type": "execute_result"
    }
   ],
   "source": [
    "10/3"
   ]
  },
  {
   "cell_type": "code",
   "execution_count": 4,
   "id": "bb539ef5-8651-4cf8-b04c-1e8180f631de",
   "metadata": {},
   "outputs": [
    {
     "data": {
      "text/plain": [
       "3"
      ]
     },
     "execution_count": 4,
     "metadata": {},
     "output_type": "execute_result"
    }
   ],
   "source": [
    "10//3"
   ]
  },
  {
   "cell_type": "code",
   "execution_count": 5,
   "id": "136f658c-aaa0-4dea-8c87-47d8039d332c",
   "metadata": {},
   "outputs": [
    {
     "data": {
      "text/plain": [
       "'10101010101010101010'"
      ]
     },
     "execution_count": 5,
     "metadata": {},
     "output_type": "execute_result"
    }
   ],
   "source": [
    "10*'10'"
   ]
  },
  {
   "cell_type": "code",
   "execution_count": 6,
   "id": "118c46f6-f4cc-40dc-93af-07044c06b1ae",
   "metadata": {},
   "outputs": [
    {
     "data": {
      "text/plain": [
       "'abcabcabcabcabcabcabcabcabcabc'"
      ]
     },
     "execution_count": 6,
     "metadata": {},
     "output_type": "execute_result"
    }
   ],
   "source": [
    "10*'abc'"
   ]
  },
  {
   "cell_type": "code",
   "execution_count": 7,
   "id": "29089f5c-9d45-4cc9-b95c-4294dc4bb221",
   "metadata": {},
   "outputs": [
    {
     "data": {
      "text/plain": [
       "'ababababab'"
      ]
     },
     "execution_count": 7,
     "metadata": {},
     "output_type": "execute_result"
    }
   ],
   "source": [
    "'ab'*5"
   ]
  },
  {
   "cell_type": "code",
   "execution_count": 8,
   "id": "df0d7b9d-fe33-4221-b60e-3e3cd8466d6f",
   "metadata": {},
   "outputs": [
    {
     "data": {
      "text/plain": [
       "str"
      ]
     },
     "execution_count": 8,
     "metadata": {},
     "output_type": "execute_result"
    }
   ],
   "source": [
    "type('abcde')"
   ]
  },
  {
   "cell_type": "code",
   "execution_count": 9,
   "id": "8a0feeca-8d2c-49cf-a82d-10de7f88bcc3",
   "metadata": {},
   "outputs": [
    {
     "data": {
      "text/plain": [
       "int"
      ]
     },
     "execution_count": 9,
     "metadata": {},
     "output_type": "execute_result"
    }
   ],
   "source": [
    "type(1)"
   ]
  },
  {
   "cell_type": "code",
   "execution_count": 10,
   "id": "1762f2e8-8147-4e61-a1e4-4fdb3d6ae951",
   "metadata": {},
   "outputs": [
    {
     "data": {
      "text/plain": [
       "float"
      ]
     },
     "execution_count": 10,
     "metadata": {},
     "output_type": "execute_result"
    }
   ],
   "source": [
    "type(5.9)"
   ]
  },
  {
   "cell_type": "code",
   "execution_count": 11,
   "id": "b7b90df5-ddd0-415e-81a6-ffd4ff938467",
   "metadata": {},
   "outputs": [
    {
     "data": {
      "text/plain": [
       "bool"
      ]
     },
     "execution_count": 11,
     "metadata": {},
     "output_type": "execute_result"
    }
   ],
   "source": [
    "type(True)"
   ]
  },
  {
   "cell_type": "code",
   "execution_count": 15,
   "id": "4aa28f4f-d01a-40ee-89af-db8803d1dfa8",
   "metadata": {},
   "outputs": [
    {
     "data": {
      "text/plain": [
       "int"
      ]
     },
     "execution_count": 15,
     "metadata": {},
     "output_type": "execute_result"
    }
   ],
   "source": [
    "type(-0)"
   ]
  },
  {
   "cell_type": "markdown",
   "id": "66469953-f86e-463c-b131-1c3cdbabfd69",
   "metadata": {},
   "source": [
    "### Strings"
   ]
  },
  {
   "cell_type": "code",
   "execution_count": 16,
   "id": "c648be7d-9347-48d3-8d7b-36ec685e2b08",
   "metadata": {},
   "outputs": [
    {
     "data": {
      "text/plain": [
       "'Hello'"
      ]
     },
     "execution_count": 16,
     "metadata": {},
     "output_type": "execute_result"
    }
   ],
   "source": [
    "\"Hello\""
   ]
  },
  {
   "cell_type": "code",
   "execution_count": 17,
   "id": "39605479-6ab6-4080-9c8b-de3cdf39e390",
   "metadata": {},
   "outputs": [
    {
     "data": {
      "text/plain": [
       "'World'"
      ]
     },
     "execution_count": 17,
     "metadata": {},
     "output_type": "execute_result"
    }
   ],
   "source": [
    "'World'"
   ]
  },
  {
   "cell_type": "code",
   "execution_count": 18,
   "id": "f2f87cf2-9c7e-4008-9f16-10f37ff3d13a",
   "metadata": {},
   "outputs": [
    {
     "data": {
      "text/plain": [
       "str"
      ]
     },
     "execution_count": 18,
     "metadata": {},
     "output_type": "execute_result"
    }
   ],
   "source": [
    "type(\"\"\"Hello This is me\"\"\")"
   ]
  },
  {
   "cell_type": "markdown",
   "id": "4979266b-97ce-4f76-8ff3-62eebb26614a",
   "metadata": {},
   "source": [
    "### Variable Assignment"
   ]
  },
  {
   "cell_type": "code",
   "execution_count": 20,
   "id": "56ed8b68-9944-4504-b497-eb74a158ca08",
   "metadata": {},
   "outputs": [],
   "source": [
    "a = 10"
   ]
  },
  {
   "cell_type": "code",
   "execution_count": 21,
   "id": "0c9951d2-83e9-4cf2-88cb-f20c8b36bc5c",
   "metadata": {},
   "outputs": [
    {
     "data": {
      "text/plain": [
       "int"
      ]
     },
     "execution_count": 21,
     "metadata": {},
     "output_type": "execute_result"
    }
   ],
   "source": [
    "type(a)"
   ]
  },
  {
   "cell_type": "code",
   "execution_count": 22,
   "id": "1f84c80d-6f29-4117-af65-ebdbfe925d9d",
   "metadata": {},
   "outputs": [],
   "source": [
    "a = \"Swapnil\""
   ]
  },
  {
   "cell_type": "code",
   "execution_count": 23,
   "id": "1ce3570e-2ae5-4a00-b4ae-d22f54e5af8c",
   "metadata": {},
   "outputs": [
    {
     "data": {
      "text/plain": [
       "str"
      ]
     },
     "execution_count": 23,
     "metadata": {},
     "output_type": "execute_result"
    }
   ],
   "source": [
    "type(a)"
   ]
  },
  {
   "cell_type": "code",
   "execution_count": 24,
   "id": "87322f21-7cc0-4f87-af31-9b96fdee1f59",
   "metadata": {},
   "outputs": [],
   "source": [
    "a = 20\n",
    "b = 30"
   ]
  },
  {
   "cell_type": "code",
   "execution_count": 25,
   "id": "1793d766-7932-4897-ac07-84c3f906834a",
   "metadata": {},
   "outputs": [
    {
     "name": "stdout",
     "output_type": "stream",
     "text": [
      "0.6666666666666666\n",
      "600\n",
      "20\n",
      "650\n"
     ]
    }
   ],
   "source": [
    "print(a/b)\n",
    "print(a*b)\n",
    "print(a%b)\n",
    "print((a+b)+(a*b))"
   ]
  },
  {
   "cell_type": "markdown",
   "id": "fa02eb95-5996-409d-a41c-4fc126fddf1a",
   "metadata": {},
   "source": [
    "### Various ways of printing"
   ]
  },
  {
   "cell_type": "code",
   "execution_count": 26,
   "id": "d933ceb6-4c36-4238-a0f4-2df9f76202ab",
   "metadata": {},
   "outputs": [
    {
     "name": "stdout",
     "output_type": "stream",
     "text": [
      "Hello\n"
     ]
    }
   ],
   "source": [
    "print(\"Hello\")"
   ]
  },
  {
   "cell_type": "code",
   "execution_count": 27,
   "id": "2ba72891-3430-4197-a011-35bd63aac187",
   "metadata": {},
   "outputs": [],
   "source": [
    "first_name = \"Swapnil\"\n",
    "last_name = \"Nanda\""
   ]
  },
  {
   "cell_type": "code",
   "execution_count": 32,
   "id": "81f5d93a-df87-4fbc-86ee-a409e0b683fc",
   "metadata": {},
   "outputs": [
    {
     "name": "stdout",
     "output_type": "stream",
     "text": [
      "My name is Swapnil Nanda\n"
     ]
    }
   ],
   "source": [
    "print(\"My name is {} {}\".format(first_name,last_name))\n",
    "# ordring is important"
   ]
  },
  {
   "cell_type": "code",
   "execution_count": 35,
   "id": "cddd6dcb-22b5-49e5-b1d1-5974491bfbfa",
   "metadata": {},
   "outputs": [
    {
     "name": "stdout",
     "output_type": "stream",
     "text": [
      "My name is Swapnil Nanda\n"
     ]
    }
   ],
   "source": [
    "print(\"My name is {first} {last}\".format(first = first_name, last = last_name))\n",
    "#ordering is not important"
   ]
  },
  {
   "cell_type": "code",
   "execution_count": 36,
   "id": "5e19b618-cd17-4a07-8026-39fea8942f62",
   "metadata": {},
   "outputs": [
    {
     "name": "stdout",
     "output_type": "stream",
     "text": [
      "My name is Swapnil Nanda\n"
     ]
    }
   ],
   "source": [
    "print(f\"My name is {first_name} {last_name}\")"
   ]
  },
  {
   "cell_type": "code",
   "execution_count": 37,
   "id": "2c593b50-b2d4-44b3-ad4e-a5ad6e358a4e",
   "metadata": {},
   "outputs": [
    {
     "data": {
      "text/plain": [
       "7"
      ]
     },
     "execution_count": 37,
     "metadata": {},
     "output_type": "execute_result"
    }
   ],
   "source": [
    "len(\"Swapnil\")"
   ]
  },
  {
   "cell_type": "code",
   "execution_count": 41,
   "id": "bd9f2e68-c8fc-4e5d-a371-469be73239f0",
   "metadata": {},
   "outputs": [
    {
     "data": {
      "text/plain": [
       "list"
      ]
     },
     "execution_count": 41,
     "metadata": {},
     "output_type": "execute_result"
    }
   ],
   "source": [
    "type([43,45,67,5,76,54,76,54,7,5,76])"
   ]
  },
  {
   "cell_type": "code",
   "execution_count": 42,
   "id": "deef7234-b63c-4df6-9917-fae06b12222e",
   "metadata": {},
   "outputs": [
    {
     "data": {
      "text/plain": [
       "3"
      ]
     },
     "execution_count": 42,
     "metadata": {},
     "output_type": "execute_result"
    }
   ],
   "source": [
    "len([1,2,3])"
   ]
  },
  {
   "cell_type": "markdown",
   "id": "4c13a873-047a-4a41-947f-f8eaaf0422b5",
   "metadata": {},
   "source": [
    "### Boolean"
   ]
  },
  {
   "cell_type": "code",
   "execution_count": 43,
   "id": "b1826138-0ae2-4e18-a06b-afef5980bdfd",
   "metadata": {},
   "outputs": [
    {
     "data": {
      "text/plain": [
       "True"
      ]
     },
     "execution_count": 43,
     "metadata": {},
     "output_type": "execute_result"
    }
   ],
   "source": [
    "bool(1)"
   ]
  },
  {
   "cell_type": "code",
   "execution_count": 44,
   "id": "5c2619d3-8c36-4c75-ad2b-e5666303da6d",
   "metadata": {},
   "outputs": [
    {
     "data": {
      "text/plain": [
       "False"
      ]
     },
     "execution_count": 44,
     "metadata": {},
     "output_type": "execute_result"
    }
   ],
   "source": [
    "bool(0)"
   ]
  },
  {
   "cell_type": "code",
   "execution_count": 45,
   "id": "51c0c491-8483-4dde-85c1-667e1c28f1a9",
   "metadata": {},
   "outputs": [
    {
     "data": {
      "text/plain": [
       "False"
      ]
     },
     "execution_count": 45,
     "metadata": {},
     "output_type": "execute_result"
    }
   ],
   "source": [
    "bool(-0)"
   ]
  },
  {
   "cell_type": "code",
   "execution_count": 46,
   "id": "ec282e63-dc14-481d-b7f1-ca4719d1140b",
   "metadata": {},
   "outputs": [
    {
     "data": {
      "text/plain": [
       "True"
      ]
     },
     "execution_count": 46,
     "metadata": {},
     "output_type": "execute_result"
    }
   ],
   "source": [
    "bool(-2)"
   ]
  },
  {
   "cell_type": "code",
   "execution_count": 47,
   "id": "3dd5a919-68ba-4a95-98ca-1917ae4ae18b",
   "metadata": {},
   "outputs": [
    {
     "data": {
      "text/plain": [
       "bool"
      ]
     },
     "execution_count": 47,
     "metadata": {},
     "output_type": "execute_result"
    }
   ],
   "source": [
    "type(True)"
   ]
  },
  {
   "cell_type": "code",
   "execution_count": 48,
   "id": "c5dbcaa9-e2a0-4d5d-9a1e-33bef00fc643",
   "metadata": {},
   "outputs": [
    {
     "data": {
      "text/plain": [
       "bool"
      ]
     },
     "execution_count": 48,
     "metadata": {},
     "output_type": "execute_result"
    }
   ],
   "source": [
    "type(False)"
   ]
  },
  {
   "cell_type": "code",
   "execution_count": 49,
   "id": "286564c6-45c2-460d-b533-965a23441d59",
   "metadata": {},
   "outputs": [],
   "source": [
    "str = \"Swapnil Nanda\"\n",
    "str2 = \"   \""
   ]
  },
  {
   "cell_type": "code",
   "execution_count": 50,
   "id": "8099ac9d-3cb6-4e0c-8601-665da989e063",
   "metadata": {},
   "outputs": [
    {
     "name": "stdout",
     "output_type": "stream",
     "text": [
      "False\n",
      "False\n",
      "False\n",
      "True\n",
      "False\n",
      "False\n",
      "False\n",
      "True\n",
      "False\n"
     ]
    }
   ],
   "source": [
    "print(str.isalnum()) # if all charcaters are either alphabet or numbers\n",
    "print(str.isalpha()) # if all characters are alphabets\n",
    "print(str.isdigit()) # if all charcters are digits\n",
    "print(str.istitle()) # if all words start with a upper case\n",
    "print(str.isupper()) # if all characters are in upper case\n",
    "print(str.islower()) # if all charcters are in lower case\n",
    "print(str.isspace()) # if all characters in string are white spaces\n",
    "print(str.endswith('a')) # tests if the string ends with the specified character\n",
    "print(str.startswith('s')) # tests if the string starts with the specified character"
   ]
  },
  {
   "cell_type": "code",
   "execution_count": 59,
   "id": "b0bdd50b-4700-4273-b262-a573c0c6c5b2",
   "metadata": {},
   "outputs": [],
   "source": [
    "str1 = \"User1243\""
   ]
  },
  {
   "cell_type": "code",
   "execution_count": 58,
   "id": "83ed3c52-19e4-4258-878e-63bee2764f87",
   "metadata": {},
   "outputs": [
    {
     "name": "stdout",
     "output_type": "stream",
     "text": [
      "False\n",
      "False\n",
      "False\n",
      "True\n",
      "False\n",
      "False\n",
      "False\n",
      "False\n",
      "False\n"
     ]
    }
   ],
   "source": [
    "print(str1.isalnum()) # if all charcaters are either alphabet or numbers, dont allow space too\n",
    "print(str1.isalpha()) # if all characters are alphabets\n",
    "print(str1.isdigit()) # if all charcters are digits\n",
    "print(str1.istitle()) # if all words start with a upper case\n",
    "print(str1.isupper()) # if all characters are in upper case\n",
    "print(str1.islower()) # if all charcters are in lower case\n",
    "print(str1.isspace()) # if all characters in string are white spaces\n",
    "print(str1.endswith('a')) # tests if the string ends with the specified character\n",
    "print(str1.startswith('s')) # tests if the string starts with the specified character"
   ]
  },
  {
   "cell_type": "code",
   "execution_count": 61,
   "id": "e26e068c-fe09-47ae-a723-ad95860e82b6",
   "metadata": {},
   "outputs": [],
   "source": [
    "str2 = \"   \""
   ]
  },
  {
   "cell_type": "code",
   "execution_count": 62,
   "id": "ee356cb8-616c-4098-a6c7-b8083a067bad",
   "metadata": {},
   "outputs": [
    {
     "name": "stdout",
     "output_type": "stream",
     "text": [
      "False\n",
      "False\n",
      "False\n",
      "False\n",
      "False\n",
      "False\n",
      "True\n",
      "False\n",
      "False\n"
     ]
    }
   ],
   "source": [
    "print(str2.isalnum()) # if all charcaters are either alphabet or numbers, dont allow space too\n",
    "print(str2.isalpha()) # if all characters are alphabets\n",
    "print(str2.isdigit()) # if all charcters are digits\n",
    "print(str2.istitle()) # if all words start with a upper case\n",
    "print(str2.isupper()) # if all characters are in upper case\n",
    "print(str2.islower()) # if all charcters are in lower case\n",
    "print(str2.isspace()) # if all characters in string are white spaces\n",
    "print(str2.endswith('a')) # tests if the string ends with the specified character\n",
    "print(str2.startswith('s')) # tests if the string starts with the specified character"
   ]
  },
  {
   "cell_type": "markdown",
   "id": "adbb1952-b7aa-4bdc-a538-d3ba027e398a",
   "metadata": {},
   "source": [
    "### Boolean and Logical Operators"
   ]
  },
  {
   "cell_type": "code",
   "execution_count": 63,
   "id": "2113ff2c-5d38-4bfa-a75f-de9d5e7e666c",
   "metadata": {},
   "outputs": [
    {
     "data": {
      "text/plain": [
       "True"
      ]
     },
     "execution_count": 63,
     "metadata": {},
     "output_type": "execute_result"
    }
   ],
   "source": [
    "True and True"
   ]
  },
  {
   "cell_type": "code",
   "execution_count": 64,
   "id": "e455e365-de29-4faf-acdf-a720b5a45274",
   "metadata": {},
   "outputs": [
    {
     "data": {
      "text/plain": [
       "False"
      ]
     },
     "execution_count": 64,
     "metadata": {},
     "output_type": "execute_result"
    }
   ],
   "source": [
    "False and True\n"
   ]
  },
  {
   "cell_type": "code",
   "execution_count": 65,
   "id": "378a86ba-e79e-489c-928e-15dea0ae6709",
   "metadata": {},
   "outputs": [
    {
     "data": {
      "text/plain": [
       "True"
      ]
     },
     "execution_count": 65,
     "metadata": {},
     "output_type": "execute_result"
    }
   ],
   "source": [
    "True or False"
   ]
  },
  {
   "cell_type": "code",
   "execution_count": 66,
   "id": "fb3dc5b7-2983-4df6-baff-b16c51ce8078",
   "metadata": {},
   "outputs": [
    {
     "data": {
      "text/plain": [
       "True"
      ]
     },
     "execution_count": 66,
     "metadata": {},
     "output_type": "execute_result"
    }
   ],
   "source": [
    "False or True\n"
   ]
  },
  {
   "cell_type": "code",
   "execution_count": 67,
   "id": "27183c40-ad4f-4784-aba0-58e9a44af180",
   "metadata": {},
   "outputs": [
    {
     "data": {
      "text/plain": [
       "False"
      ]
     },
     "execution_count": 67,
     "metadata": {},
     "output_type": "execute_result"
    }
   ],
   "source": [
    "string = \"Swapnil Nanda\"\n",
    "string.isalpha()"
   ]
  },
  {
   "cell_type": "markdown",
   "id": "b19af60e-78fb-4f92-bcdd-e96209a39965",
   "metadata": {},
   "source": [
    "### Lists"
   ]
  },
  {
   "cell_type": "code",
   "execution_count": 68,
   "id": "be41b333-aab8-48d7-8f3e-6917d438cabe",
   "metadata": {},
   "outputs": [],
   "source": [
    "lst_example = []"
   ]
  },
  {
   "cell_type": "code",
   "execution_count": 69,
   "id": "bdcdb010-582d-4428-b312-fb72509e7794",
   "metadata": {},
   "outputs": [
    {
     "data": {
      "text/plain": [
       "list"
      ]
     },
     "execution_count": 69,
     "metadata": {},
     "output_type": "execute_result"
    }
   ],
   "source": [
    "type(lst_example)"
   ]
  },
  {
   "cell_type": "code",
   "execution_count": 70,
   "id": "d5f95625-4317-41f0-98ee-072e3730b37e",
   "metadata": {},
   "outputs": [],
   "source": [
    "lst = list((2,34,4,5,4))"
   ]
  },
  {
   "cell_type": "code",
   "execution_count": 71,
   "id": "0de0ffb5-3d35-4ae1-91ff-1eb29a43f1d5",
   "metadata": {},
   "outputs": [
    {
     "data": {
      "text/plain": [
       "list"
      ]
     },
     "execution_count": 71,
     "metadata": {},
     "output_type": "execute_result"
    }
   ],
   "source": [
    "type(lst)"
   ]
  },
  {
   "cell_type": "code",
   "execution_count": 75,
   "id": "8afdd7b9-e082-4d79-be04-530222a11fd0",
   "metadata": {},
   "outputs": [],
   "source": [
    "lst = [7,5,56,\"English\",\"Mathematics\"]"
   ]
  },
  {
   "cell_type": "code",
   "execution_count": 76,
   "id": "d00e5bbc-6581-487d-a973-57ae78843322",
   "metadata": {},
   "outputs": [
    {
     "data": {
      "text/plain": [
       "5"
      ]
     },
     "execution_count": 76,
     "metadata": {},
     "output_type": "execute_result"
    }
   ],
   "source": [
    "len(lst)"
   ]
  },
  {
   "cell_type": "markdown",
   "id": "12907e0c-7c6a-4b35-9304-e8449aec89eb",
   "metadata": {},
   "source": [
    "##### Append"
   ]
  },
  {
   "cell_type": "code",
   "execution_count": 77,
   "id": "d8d4b15c-bebe-44eb-9abd-9578472cff82",
   "metadata": {},
   "outputs": [],
   "source": [
    "lst.append(\"Swapnil\")"
   ]
  },
  {
   "cell_type": "code",
   "execution_count": 78,
   "id": "2eadda73-bb3d-436a-8433-e35e45ecbc14",
   "metadata": {},
   "outputs": [
    {
     "data": {
      "text/plain": [
       "[7, 5, 56, 'English', 'Mathematics', 'Swapnil']"
      ]
     },
     "execution_count": 78,
     "metadata": {},
     "output_type": "execute_result"
    }
   ],
   "source": [
    "lst"
   ]
  },
  {
   "cell_type": "code",
   "execution_count": 91,
   "id": "9fe57df7-6b23-4d17-97cd-24e3c1f237d1",
   "metadata": {},
   "outputs": [],
   "source": [
    "##### Extend"
   ]
  },
  {
   "cell_type": "code",
   "execution_count": 92,
   "id": "37455828-067c-4bfd-8736-e162c43875ab",
   "metadata": {},
   "outputs": [],
   "source": [
    "lst.extend([\"Nanda\", \"JIman\"])"
   ]
  },
  {
   "cell_type": "code",
   "execution_count": 93,
   "id": "eb7ea619-5cc5-4059-96e6-22751b3b95f3",
   "metadata": {},
   "outputs": [
    {
     "data": {
      "text/plain": [
       "['Hello',\n",
       " 'Hello',\n",
       " 7,\n",
       " 5,\n",
       " 56,\n",
       " 'English',\n",
       " 'Mathematics',\n",
       " 'Swapnil',\n",
       " 'Nanda',\n",
       " 'JIman',\n",
       " 'Nanda',\n",
       " 'JIman']"
      ]
     },
     "execution_count": 93,
     "metadata": {},
     "output_type": "execute_result"
    }
   ],
   "source": [
    "lst"
   ]
  },
  {
   "cell_type": "code",
   "execution_count": 94,
   "id": "c21d27c8-0ee7-42b7-8a5b-1e3bec555587",
   "metadata": {},
   "outputs": [
    {
     "data": {
      "text/plain": [
       "['Hello',\n",
       " 'Hello',\n",
       " 7,\n",
       " 5,\n",
       " 56,\n",
       " 'English',\n",
       " 'Mathematics',\n",
       " 'Swapnil',\n",
       " 'Nanda',\n",
       " 'JIman',\n",
       " 'Nanda',\n",
       " 'JIman']"
      ]
     },
     "execution_count": 94,
     "metadata": {},
     "output_type": "execute_result"
    }
   ],
   "source": [
    "lst[:]"
   ]
  },
  {
   "cell_type": "code",
   "execution_count": 95,
   "id": "3fbf4665-3ceb-4d2f-b56e-9009c3697790",
   "metadata": {},
   "outputs": [
    {
     "data": {
      "text/plain": [
       "['Hello',\n",
       " 7,\n",
       " 5,\n",
       " 56,\n",
       " 'English',\n",
       " 'Mathematics',\n",
       " 'Swapnil',\n",
       " 'Nanda',\n",
       " 'JIman',\n",
       " 'Nanda',\n",
       " 'JIman']"
      ]
     },
     "execution_count": 95,
     "metadata": {},
     "output_type": "execute_result"
    }
   ],
   "source": [
    "lst[1:]"
   ]
  },
  {
   "cell_type": "code",
   "execution_count": 96,
   "id": "1c5906d9-4bcd-45dd-b3a6-76cf9c2e7c63",
   "metadata": {},
   "outputs": [
    {
     "data": {
      "text/plain": [
       "['Hello', 'Hello', 7, 5, 56]"
      ]
     },
     "execution_count": 96,
     "metadata": {},
     "output_type": "execute_result"
    }
   ],
   "source": [
    "lst[:5]"
   ]
  },
  {
   "cell_type": "code",
   "execution_count": 97,
   "id": "f7426823-8d3f-4afb-92bd-5467de87aed4",
   "metadata": {},
   "outputs": [
    {
     "data": {
      "text/plain": [
       "['Hello',\n",
       " 'Hello',\n",
       " 7,\n",
       " 5,\n",
       " 56,\n",
       " 'English',\n",
       " 'Mathematics',\n",
       " 'Swapnil',\n",
       " 'Nanda',\n",
       " 'JIman',\n",
       " 'Nanda',\n",
       " 'JIman']"
      ]
     },
     "execution_count": 97,
     "metadata": {},
     "output_type": "execute_result"
    }
   ],
   "source": [
    "lst[:100]"
   ]
  },
  {
   "cell_type": "markdown",
   "id": "d90c46c5-65c1-43c3-b1e6-1577e00cd6ee",
   "metadata": {},
   "source": [
    "##### Insert"
   ]
  },
  {
   "cell_type": "code",
   "execution_count": 98,
   "id": "20a4ef71-aca0-43c1-ac65-733bb0725827",
   "metadata": {},
   "outputs": [],
   "source": [
    "lst.insert(0,\"Hello\") # first value is index second value is value"
   ]
  },
  {
   "cell_type": "code",
   "execution_count": 99,
   "id": "3c72a978-b417-4525-9329-f4d66a16f432",
   "metadata": {},
   "outputs": [
    {
     "data": {
      "text/plain": [
       "['Hello',\n",
       " 'Hello',\n",
       " 'Hello',\n",
       " 7,\n",
       " 5,\n",
       " 56,\n",
       " 'English',\n",
       " 'Mathematics',\n",
       " 'Swapnil',\n",
       " 'Nanda',\n",
       " 'JIman',\n",
       " 'Nanda',\n",
       " 'JIman']"
      ]
     },
     "execution_count": 99,
     "metadata": {},
     "output_type": "execute_result"
    }
   ],
   "source": [
    "lst"
   ]
  },
  {
   "cell_type": "code",
   "execution_count": 100,
   "id": "ae2fd33b-8dd2-4362-86a4-ef83aa4c0064",
   "metadata": {},
   "outputs": [],
   "source": [
    "lst1 = [1,3,2,4,6]"
   ]
  },
  {
   "cell_type": "markdown",
   "id": "e0aac10b-3bbd-4e2d-8e7d-fb12061f0b6a",
   "metadata": {},
   "source": [
    "##### Sum"
   ]
  },
  {
   "cell_type": "code",
   "execution_count": 101,
   "id": "1f0bd200-4517-44cb-af79-600135ca4bd3",
   "metadata": {},
   "outputs": [
    {
     "data": {
      "text/plain": [
       "16"
      ]
     },
     "execution_count": 101,
     "metadata": {},
     "output_type": "execute_result"
    }
   ],
   "source": [
    "sum(lst1)"
   ]
  },
  {
   "cell_type": "markdown",
   "id": "d2a8eff0-5b85-4f6b-a67b-ac5d21f1d901",
   "metadata": {},
   "source": [
    "##### Pop"
   ]
  },
  {
   "cell_type": "code",
   "execution_count": 102,
   "id": "06774259-29bd-431e-8c38-c0d59aef0290",
   "metadata": {},
   "outputs": [
    {
     "data": {
      "text/plain": [
       "'JIman'"
      ]
     },
     "execution_count": 102,
     "metadata": {},
     "output_type": "execute_result"
    }
   ],
   "source": [
    "lst.pop()"
   ]
  },
  {
   "cell_type": "code",
   "execution_count": 103,
   "id": "54d00d29-25f5-4653-ac08-b6336caa775b",
   "metadata": {},
   "outputs": [
    {
     "data": {
      "text/plain": [
       "['Hello',\n",
       " 'Hello',\n",
       " 'Hello',\n",
       " 7,\n",
       " 5,\n",
       " 56,\n",
       " 'English',\n",
       " 'Mathematics',\n",
       " 'Swapnil',\n",
       " 'Nanda',\n",
       " 'JIman',\n",
       " 'Nanda']"
      ]
     },
     "execution_count": 103,
     "metadata": {},
     "output_type": "execute_result"
    }
   ],
   "source": [
    "lst"
   ]
  },
  {
   "cell_type": "code",
   "execution_count": 104,
   "id": "0b2a91fc-5cad-4ca0-b141-2851064c8c50",
   "metadata": {},
   "outputs": [
    {
     "data": {
      "text/plain": [
       "'Nanda'"
      ]
     },
     "execution_count": 104,
     "metadata": {},
     "output_type": "execute_result"
    }
   ],
   "source": [
    "lst.pop()"
   ]
  },
  {
   "cell_type": "code",
   "execution_count": 105,
   "id": "4e3cc15e-a194-4277-89d5-84f004e39268",
   "metadata": {},
   "outputs": [
    {
     "data": {
      "text/plain": [
       "['Hello',\n",
       " 'Hello',\n",
       " 'Hello',\n",
       " 7,\n",
       " 5,\n",
       " 56,\n",
       " 'English',\n",
       " 'Mathematics',\n",
       " 'Swapnil',\n",
       " 'Nanda',\n",
       " 'JIman']"
      ]
     },
     "execution_count": 105,
     "metadata": {},
     "output_type": "execute_result"
    }
   ],
   "source": [
    "lst"
   ]
  },
  {
   "cell_type": "code",
   "execution_count": 106,
   "id": "d3fea1ec-11a2-4776-b05d-a808976a0c0c",
   "metadata": {},
   "outputs": [],
   "source": [
    "x = lst.pop()"
   ]
  },
  {
   "cell_type": "code",
   "execution_count": 107,
   "id": "858dae24-da16-44d7-8254-b2bbb4334922",
   "metadata": {},
   "outputs": [
    {
     "data": {
      "text/plain": [
       "'JIman'"
      ]
     },
     "execution_count": 107,
     "metadata": {},
     "output_type": "execute_result"
    }
   ],
   "source": [
    "x"
   ]
  },
  {
   "cell_type": "code",
   "execution_count": 108,
   "id": "62a802cf-751d-4f80-8df5-f23297e3b5ed",
   "metadata": {},
   "outputs": [],
   "source": [
    "lst.remove('Hello')"
   ]
  },
  {
   "cell_type": "code",
   "execution_count": 109,
   "id": "9052c693-aa1d-41c1-926c-15ac973c7c35",
   "metadata": {},
   "outputs": [
    {
     "data": {
      "text/plain": [
       "['Hello', 'Hello', 7, 5, 56, 'English', 'Mathematics', 'Swapnil', 'Nanda']"
      ]
     },
     "execution_count": 109,
     "metadata": {},
     "output_type": "execute_result"
    }
   ],
   "source": [
    "lst"
   ]
  },
  {
   "cell_type": "code",
   "execution_count": 110,
   "id": "44224c3e-9b0e-46be-8eda-edf6332c1706",
   "metadata": {},
   "outputs": [
    {
     "data": {
      "text/plain": [
       "1"
      ]
     },
     "execution_count": 110,
     "metadata": {},
     "output_type": "execute_result"
    }
   ],
   "source": [
    "lst1.count(3)"
   ]
  },
  {
   "cell_type": "code",
   "execution_count": 111,
   "id": "9d4dc4a8-a82b-4848-944a-991ac5aa63e6",
   "metadata": {},
   "outputs": [
    {
     "data": {
      "text/plain": [
       "0"
      ]
     },
     "execution_count": 111,
     "metadata": {},
     "output_type": "execute_result"
    }
   ],
   "source": [
    "lst1.count(19)"
   ]
  },
  {
   "cell_type": "code",
   "execution_count": 112,
   "id": "1508d891-7c05-4059-896e-9872c5b7548c",
   "metadata": {},
   "outputs": [
    {
     "data": {
      "text/plain": [
       "5"
      ]
     },
     "execution_count": 112,
     "metadata": {},
     "output_type": "execute_result"
    }
   ],
   "source": [
    "len(lst1)"
   ]
  },
  {
   "cell_type": "code",
   "execution_count": 113,
   "id": "5540ed1b-4bf2-41d5-95de-1ba9656e30c6",
   "metadata": {},
   "outputs": [
    {
     "data": {
      "text/plain": [
       "1"
      ]
     },
     "execution_count": 113,
     "metadata": {},
     "output_type": "execute_result"
    }
   ],
   "source": [
    "min(lst1)"
   ]
  },
  {
   "cell_type": "code",
   "execution_count": 115,
   "id": "5a4d1337-a32b-4c44-912e-4ab6b62d8db5",
   "metadata": {},
   "outputs": [
    {
     "data": {
      "text/plain": [
       "0"
      ]
     },
     "execution_count": 115,
     "metadata": {},
     "output_type": "execute_result"
    }
   ],
   "source": [
    "lst.index(\"Hello\")"
   ]
  },
  {
   "cell_type": "code",
   "execution_count": 116,
   "id": "f53dc553-fa97-4e64-9105-d963a7e34c4d",
   "metadata": {},
   "outputs": [
    {
     "data": {
      "text/plain": [
       "1"
      ]
     },
     "execution_count": 116,
     "metadata": {},
     "output_type": "execute_result"
    }
   ],
   "source": [
    "lst.index(\"Hello\",1,5)"
   ]
  },
  {
   "cell_type": "code",
   "execution_count": 117,
   "id": "f62a804b-23d2-4108-90f8-e3ce5e7201d9",
   "metadata": {},
   "outputs": [
    {
     "data": {
      "text/plain": [
       "[1, 3, 2, 4, 6, 1, 3, 2, 4, 6, 1, 3, 2, 4, 6]"
      ]
     },
     "execution_count": 117,
     "metadata": {},
     "output_type": "execute_result"
    }
   ],
   "source": [
    "lst1*3"
   ]
  },
  {
   "cell_type": "code",
   "execution_count": 118,
   "id": "bca48fae-3b9e-481e-bb33-63497dff3c47",
   "metadata": {},
   "outputs": [
    {
     "data": {
      "text/plain": [
       "[1, 3, 2, 4, 6]"
      ]
     },
     "execution_count": 118,
     "metadata": {},
     "output_type": "execute_result"
    }
   ],
   "source": [
    "lst1\n"
   ]
  },
  {
   "cell_type": "code",
   "execution_count": null,
   "id": "a4482ee8-a2d3-4672-b704-f1757494e013",
   "metadata": {},
   "outputs": [],
   "source": [
    "\n"
   ]
  },
  {
   "cell_type": "markdown",
   "id": "63c942dd-6b74-4dac-bd6a-36378bfd9f2c",
   "metadata": {},
   "source": [
    "### Sets"
   ]
  },
  {
   "cell_type": "markdown",
   "id": "277f2f05-5ad5-49c7-b57b-70d80fe52ba7",
   "metadata": {},
   "source": [
    "###### A set is an unordered collection data type that is iterable, mutable and has no duplicate elements. Python's set class represents the mathematical notation of a set. this is based on a data structure known as hash table"
   ]
  },
  {
   "cell_type": "code",
   "execution_count": 122,
   "id": "81691079-3ffb-4ab0-8f0b-5773b73fa8fa",
   "metadata": {},
   "outputs": [
    {
     "name": "stdout",
     "output_type": "stream",
     "text": [
      "set()\n",
      "<class 'set'>\n"
     ]
    }
   ],
   "source": [
    "set_var = set()\n",
    "print(set_var)\n",
    "print(type(set_var))"
   ]
  },
  {
   "cell_type": "code",
   "execution_count": 128,
   "id": "1fd6e52a-4cf5-471a-8c32-375c7283194d",
   "metadata": {},
   "outputs": [],
   "source": [
    "set_var = {\"Avengers\",\"IronMan\", 'Capatin America'}"
   ]
  },
  {
   "cell_type": "code",
   "execution_count": 129,
   "id": "50e614ca-965b-4d82-8a40-9fa2e5758b44",
   "metadata": {},
   "outputs": [
    {
     "name": "stdout",
     "output_type": "stream",
     "text": [
      "{'Avengers', 'Capatin America', 'IronMan'}\n",
      "<class 'set'>\n",
      "3\n"
     ]
    }
   ],
   "source": [
    "print(set_var)\n",
    "print(type(set_var))\n",
    "print(len(set_var))"
   ]
  },
  {
   "cell_type": "code",
   "execution_count": 130,
   "id": "fedaea99-45af-4557-b59b-ae9f31becad1",
   "metadata": {},
   "outputs": [],
   "source": [
    "set_var.add(\"Hulk\")"
   ]
  },
  {
   "cell_type": "code",
   "execution_count": 131,
   "id": "3ac725c2-9643-4355-8195-50ae6cf1a07e",
   "metadata": {},
   "outputs": [
    {
     "data": {
      "text/plain": [
       "{'Avengers', 'Capatin America', 'Hulk', 'IronMan'}"
      ]
     },
     "execution_count": 131,
     "metadata": {},
     "output_type": "execute_result"
    }
   ],
   "source": [
    "set_var"
   ]
  },
  {
   "cell_type": "code",
   "execution_count": 134,
   "id": "38494d8c-ae2c-48a8-82b8-8fa98e2fa898",
   "metadata": {},
   "outputs": [],
   "source": [
    "set = {1,2,3,34,5,4,4,3,44,44} # no duplicates"
   ]
  },
  {
   "cell_type": "code",
   "execution_count": 135,
   "id": "6568440f-10a4-4a93-8d37-fcb29c1b07cf",
   "metadata": {},
   "outputs": [
    {
     "data": {
      "text/plain": [
       "{1, 2, 3, 4, 5, 34, 44}"
      ]
     },
     "execution_count": 135,
     "metadata": {},
     "output_type": "execute_result"
    }
   ],
   "source": [
    "set"
   ]
  },
  {
   "cell_type": "code",
   "execution_count": 136,
   "id": "1be76490-5cd6-4c76-818f-fee9fd488650",
   "metadata": {},
   "outputs": [
    {
     "ename": "TypeError",
     "evalue": "'set' object is not subscriptable",
     "output_type": "error",
     "traceback": [
      "\u001b[1;31m---------------------------------------------------------------------------\u001b[0m",
      "\u001b[1;31mTypeError\u001b[0m                                 Traceback (most recent call last)",
      "Cell \u001b[1;32mIn[136], line 1\u001b[0m\n\u001b[1;32m----> 1\u001b[0m \u001b[43mset_var\u001b[49m\u001b[43m[\u001b[49m\u001b[38;5;241;43m0\u001b[39;49m\u001b[43m]\u001b[49m\n",
      "\u001b[1;31mTypeError\u001b[0m: 'set' object is not subscriptable"
     ]
    }
   ],
   "source": [
    "set_var[0] # no indexing in sets since its unordered"
   ]
  },
  {
   "cell_type": "code",
   "execution_count": 137,
   "id": "e4060d1f-0d5b-43b6-bfaf-97d4127d134f",
   "metadata": {},
   "outputs": [],
   "source": [
    "set1 = {1,2,3,4,5,6,7,8,9,10};\n",
    "set2 = {7,8,9,10,11,12,13,14};\n"
   ]
  },
  {
   "cell_type": "code",
   "execution_count": 139,
   "id": "f580c463-bd26-4a82-a2db-cfc015477d12",
   "metadata": {},
   "outputs": [],
   "source": [
    "x = set1.union(set2)"
   ]
  },
  {
   "cell_type": "code",
   "execution_count": 140,
   "id": "26cd4b3e-679e-4545-b27f-309b65dce25a",
   "metadata": {},
   "outputs": [
    {
     "data": {
      "text/plain": [
       "{1, 2, 3, 4, 5, 6, 7, 8, 9, 10, 11, 12, 13, 14}"
      ]
     },
     "execution_count": 140,
     "metadata": {},
     "output_type": "execute_result"
    }
   ],
   "source": [
    "x"
   ]
  },
  {
   "cell_type": "code",
   "execution_count": 141,
   "id": "cb06fb7b-71d1-4446-9c68-2f4d3885bd42",
   "metadata": {},
   "outputs": [
    {
     "data": {
      "text/plain": [
       "{11, 12, 13, 14}"
      ]
     },
     "execution_count": 141,
     "metadata": {},
     "output_type": "execute_result"
    }
   ],
   "source": [
    "set2.difference(set1)"
   ]
  },
  {
   "cell_type": "code",
   "execution_count": 142,
   "id": "6dad45cb-2865-49b6-bb6a-4be5d862685a",
   "metadata": {},
   "outputs": [
    {
     "data": {
      "text/plain": [
       "{7, 8, 9, 10, 11, 12, 13, 14}"
      ]
     },
     "execution_count": 142,
     "metadata": {},
     "output_type": "execute_result"
    }
   ],
   "source": [
    "set2"
   ]
  },
  {
   "cell_type": "code",
   "execution_count": 143,
   "id": "769620ca-4f14-446b-8fdf-59b3daee756e",
   "metadata": {},
   "outputs": [],
   "source": [
    "set2.difference_update(set1)"
   ]
  },
  {
   "cell_type": "code",
   "execution_count": 144,
   "id": "2a90ccc2-1503-45b9-974c-3db29c6d8402",
   "metadata": {},
   "outputs": [
    {
     "data": {
      "text/plain": [
       "{11, 12, 13, 14}"
      ]
     },
     "execution_count": 144,
     "metadata": {},
     "output_type": "execute_result"
    }
   ],
   "source": [
    "set2"
   ]
  },
  {
   "cell_type": "code",
   "execution_count": 145,
   "id": "83d13490-a467-408f-b90f-4f8c12266991",
   "metadata": {},
   "outputs": [
    {
     "data": {
      "text/plain": [
       "set()"
      ]
     },
     "execution_count": 145,
     "metadata": {},
     "output_type": "execute_result"
    }
   ],
   "source": [
    "set1.intersection(set2)"
   ]
  },
  {
   "cell_type": "code",
   "execution_count": 146,
   "id": "7db0e225-9356-40c4-afbf-dc9149695996",
   "metadata": {},
   "outputs": [],
   "source": [
    "set2.add(3)"
   ]
  },
  {
   "cell_type": "code",
   "execution_count": 147,
   "id": "5e2f9a5e-9b1c-4d08-a4bf-9b7093fbde0c",
   "metadata": {},
   "outputs": [
    {
     "data": {
      "text/plain": [
       "{3}"
      ]
     },
     "execution_count": 147,
     "metadata": {},
     "output_type": "execute_result"
    }
   ],
   "source": [
    "set1.intersection(set2)"
   ]
  },
  {
   "cell_type": "code",
   "execution_count": 148,
   "id": "54f7e197-fd74-4c14-afb5-ab8b9e361e16",
   "metadata": {},
   "outputs": [],
   "source": [
    "set1.intersection_update(set2)"
   ]
  },
  {
   "cell_type": "code",
   "execution_count": 149,
   "id": "82923ebf-2baa-4928-9def-2b8c5df8369a",
   "metadata": {},
   "outputs": [
    {
     "data": {
      "text/plain": [
       "{3}"
      ]
     },
     "execution_count": 149,
     "metadata": {},
     "output_type": "execute_result"
    }
   ],
   "source": [
    "set1"
   ]
  },
  {
   "cell_type": "code",
   "execution_count": 150,
   "id": "1e2322d5-5ef3-4422-9d39-c9c28a9cc211",
   "metadata": {},
   "outputs": [
    {
     "data": {
      "text/plain": [
       "{3, 11, 12, 13, 14}"
      ]
     },
     "execution_count": 150,
     "metadata": {},
     "output_type": "execute_result"
    }
   ],
   "source": [
    "set2"
   ]
  },
  {
   "cell_type": "markdown",
   "id": "9d3bcb1c-1af8-4f2e-94bf-6ea443c07ad7",
   "metadata": {},
   "source": [
    "### Dictionaries"
   ]
  },
  {
   "cell_type": "markdown",
   "id": "a0725a23-854e-4a55-a174-9357195ed06a",
   "metadata": {},
   "source": [
    "##### A dictionary is a collection which is unordered, changeable and indexed. In Python dictionaries are written with curly brackets, and they have keys and values"
   ]
  },
  {
   "cell_type": "code",
   "execution_count": 151,
   "id": "08704ed0-6608-4d99-a8ec-c7243b07386e",
   "metadata": {},
   "outputs": [],
   "source": [
    "dict = {}"
   ]
  },
  {
   "cell_type": "code",
   "execution_count": 152,
   "id": "bedcb989-089d-47f8-a517-5054ba57c8ea",
   "metadata": {},
   "outputs": [
    {
     "data": {
      "text/plain": [
       "dict"
      ]
     },
     "execution_count": 152,
     "metadata": {},
     "output_type": "execute_result"
    }
   ],
   "source": [
    "type(dict)"
   ]
  },
  {
   "cell_type": "code",
   "execution_count": 153,
   "id": "7b542cec-12ae-4299-aeef-f4c1114efb52",
   "metadata": {},
   "outputs": [],
   "source": [
    "dict = {1,2,3,4,5}"
   ]
  },
  {
   "cell_type": "code",
   "execution_count": 154,
   "id": "d9b98c6e-7447-403d-8feb-f78e9d3dc325",
   "metadata": {},
   "outputs": [
    {
     "data": {
      "text/plain": [
       "set"
      ]
     },
     "execution_count": 154,
     "metadata": {},
     "output_type": "execute_result"
    }
   ],
   "source": [
    "type(dict)"
   ]
  },
  {
   "cell_type": "code",
   "execution_count": 156,
   "id": "941a292e-0107-42fe-a117-0b054ae28231",
   "metadata": {},
   "outputs": [],
   "source": [
    "dict = {1:\"SriAurobindo\", 2:\"TheMother\", 3:\"SriRamakrishnaParamhamnsa\", 4:\"SwamiVivekananda\"}"
   ]
  },
  {
   "cell_type": "code",
   "execution_count": 157,
   "id": "831ab3df-c3ce-4fa5-81f9-1f0e9cbe35ff",
   "metadata": {},
   "outputs": [
    {
     "data": {
      "text/plain": [
       "'SriRamakrishnaParamhamnsa'"
      ]
     },
     "execution_count": 157,
     "metadata": {},
     "output_type": "execute_result"
    }
   ],
   "source": [
    "dict[3]"
   ]
  },
  {
   "cell_type": "code",
   "execution_count": 161,
   "id": "4ae7f83a-6a8f-468a-b17c-31eb80461fe2",
   "metadata": {},
   "outputs": [
    {
     "name": "stdout",
     "output_type": "stream",
     "text": [
      "1\n",
      "2\n",
      "3\n",
      "4\n"
     ]
    }
   ],
   "source": [
    "# We can loop through dictionary keys\n",
    "for x in dict:    \n",
    "    print(x)"
   ]
  },
  {
   "cell_type": "code",
   "execution_count": 162,
   "id": "8db68455-d4eb-409d-a2cf-9936b6458a17",
   "metadata": {},
   "outputs": [
    {
     "name": "stdout",
     "output_type": "stream",
     "text": [
      "SriAurobindo\n",
      "TheMother\n",
      "SriRamakrishnaParamhamnsa\n",
      "SwamiVivekananda\n"
     ]
    }
   ],
   "source": [
    "# We can loop through dictionary values\n",
    "for x in dict.values():\n",
    "    print(x)"
   ]
  },
  {
   "cell_type": "code",
   "execution_count": 163,
   "id": "bae26445-eb64-4ce5-9274-48bda71d50bf",
   "metadata": {},
   "outputs": [
    {
     "name": "stdout",
     "output_type": "stream",
     "text": [
      "(1, 'SriAurobindo')\n",
      "(2, 'TheMother')\n",
      "(3, 'SriRamakrishnaParamhamnsa')\n",
      "(4, 'SwamiVivekananda')\n"
     ]
    }
   ],
   "source": [
    "# we can also loop through both keys and values\n",
    "for x in dict.items():\n",
    "    print(x)"
   ]
  },
  {
   "cell_type": "code",
   "execution_count": 166,
   "id": "80b0b2dc-ad90-437e-b9a0-2afc7179a429",
   "metadata": {},
   "outputs": [
    {
     "data": {
      "text/plain": [
       "((1, 'SriAurobindo'),\n",
       " (2, 'TheMother'),\n",
       " (3, 'SriRamakrishnaParamhamnsa'),\n",
       " (4, 'SwamiVivekananda'))"
      ]
     },
     "execution_count": 166,
     "metadata": {},
     "output_type": "execute_result"
    }
   ],
   "source": [
    "tuple(dict.items())"
   ]
  },
  {
   "cell_type": "code",
   "execution_count": 167,
   "id": "961a9d40-ef2f-47dd-b21b-684b6eac62fe",
   "metadata": {},
   "outputs": [],
   "source": [
    "# adding key:value\n",
    "dict[5] = \"ParamhansaYogananda\""
   ]
  },
  {
   "cell_type": "code",
   "execution_count": 168,
   "id": "0e146192-c4f5-4c7e-8d6e-1a76441f57d2",
   "metadata": {},
   "outputs": [
    {
     "data": {
      "text/plain": [
       "{1: 'SriAurobindo',\n",
       " 2: 'TheMother',\n",
       " 3: 'SriRamakrishnaParamhamnsa',\n",
       " 4: 'SwamiVivekananda',\n",
       " 5: 'ParamhansaYogananda'}"
      ]
     },
     "execution_count": 168,
     "metadata": {},
     "output_type": "execute_result"
    }
   ],
   "source": [
    "dict"
   ]
  },
  {
   "cell_type": "code",
   "execution_count": 172,
   "id": "ed1e502a-b763-4473-aeec-adda971a6133",
   "metadata": {},
   "outputs": [],
   "source": [
    "dict[0] = \"MahavatarBabaji\""
   ]
  },
  {
   "cell_type": "code",
   "execution_count": 173,
   "id": "a4d8cdef-5a29-4efc-9ea0-a156bbf33ac7",
   "metadata": {},
   "outputs": [
    {
     "data": {
      "text/plain": [
       "{1: 'SriAurobindo',\n",
       " 2: 'TheMother',\n",
       " 3: 'SriRamakrishnaParamhamnsa',\n",
       " 4: 'SwamiVivekananda',\n",
       " 5: 'ParamhansaYogananda',\n",
       " 0: 'MahavatarBabaji'}"
      ]
     },
     "execution_count": 173,
     "metadata": {},
     "output_type": "execute_result"
    }
   ],
   "source": [
    "dict"
   ]
  },
  {
   "cell_type": "code",
   "execution_count": 176,
   "id": "bd77b059-85d2-44b4-b68e-25b699909d60",
   "metadata": {},
   "outputs": [],
   "source": [
    "#updating value of a particular key\n",
    "dict[0] = \"ShivGorakshBabaji\""
   ]
  },
  {
   "cell_type": "code",
   "execution_count": 177,
   "id": "44d23da4-9c0b-4048-90d4-d85b13fb7d86",
   "metadata": {},
   "outputs": [
    {
     "data": {
      "text/plain": [
       "{1: 'SriAurobindo',\n",
       " 2: 'TheMother',\n",
       " 3: 'SriRamakrishnaParamhamnsa',\n",
       " 4: 'SwamiVivekananda',\n",
       " 5: 'ParamhansaYogananda',\n",
       " 0: 'ShivGorakshBabaji'}"
      ]
     },
     "execution_count": 177,
     "metadata": {},
     "output_type": "execute_result"
    }
   ],
   "source": [
    "dict"
   ]
  },
  {
   "cell_type": "markdown",
   "id": "e43ca50d-1fa5-4637-87b2-3f24d33a489a",
   "metadata": {},
   "source": [
    "#### Nested Dictionary"
   ]
  },
  {
   "cell_type": "code",
   "execution_count": 178,
   "id": "e0fe563f-b0b6-48dc-a81f-f8868ed979af",
   "metadata": {},
   "outputs": [],
   "source": [
    "car1_model = {\"Mercedes\":1960}\n",
    "car2_model = {\"Audi\":1970}\n",
    "car3_model = {\"Ambassador\":1980}\n",
    "\n",
    "car_type = {'car1': car1_model, 'car2': car2_model, 'car3': car3_model}"
   ]
  },
  {
   "cell_type": "code",
   "execution_count": 179,
   "id": "b346e764-432e-462a-b5ab-afb9ff447f48",
   "metadata": {},
   "outputs": [
    {
     "name": "stdout",
     "output_type": "stream",
     "text": [
      "{'car1': {'Mercedes': 1960}, 'car2': {'Audi': 1970}, 'car3': {'Ambassador': 1980}}\n"
     ]
    }
   ],
   "source": [
    "print(car_type)"
   ]
  },
  {
   "cell_type": "code",
   "execution_count": 180,
   "id": "07ca4846-9c34-4da7-a93a-a11f2aae3e28",
   "metadata": {},
   "outputs": [
    {
     "name": "stdout",
     "output_type": "stream",
     "text": [
      "{'Audi': 1970}\n"
     ]
    }
   ],
   "source": [
    "print(car_type['car2'])"
   ]
  },
  {
   "cell_type": "code",
   "execution_count": 181,
   "id": "d4bbd7d5-2292-4612-a077-90ac4bc988b4",
   "metadata": {},
   "outputs": [
    {
     "name": "stdout",
     "output_type": "stream",
     "text": [
      "1970\n"
     ]
    }
   ],
   "source": [
    "print(car_type['car2']['Audi'])"
   ]
  },
  {
   "cell_type": "markdown",
   "id": "5fd1769a-a514-4629-a232-20040a0183c4",
   "metadata": {},
   "source": [
    "### Tuple"
   ]
  },
  {
   "cell_type": "code",
   "execution_count": 182,
   "id": "a40c0848-f8a2-4dcf-aaf6-b9dc830d519f",
   "metadata": {},
   "outputs": [
    {
     "data": {
      "text/plain": [
       "tuple"
      ]
     },
     "execution_count": 182,
     "metadata": {},
     "output_type": "execute_result"
    }
   ],
   "source": [
    "# immutable\n",
    "my_tuple = ()\n",
    "type(my_tuple)"
   ]
  },
  {
   "cell_type": "code",
   "execution_count": 184,
   "id": "6bbe3f15-368b-4a26-9c30-268fa44aaf97",
   "metadata": {},
   "outputs": [],
   "source": [
    "my_tuple = (1,3,4,33,4)"
   ]
  },
  {
   "cell_type": "code",
   "execution_count": 185,
   "id": "3318cb4a-524f-471e-b0f8-27b5c88b61c4",
   "metadata": {},
   "outputs": [
    {
     "data": {
      "text/plain": [
       "4"
      ]
     },
     "execution_count": 185,
     "metadata": {},
     "output_type": "execute_result"
    }
   ],
   "source": [
    "my_tuple[2]"
   ]
  },
  {
   "cell_type": "code",
   "execution_count": 187,
   "id": "34a9c226-b06c-40ce-9fc4-7a31ee0762f0",
   "metadata": {},
   "outputs": [
    {
     "ename": "TypeError",
     "evalue": "'tuple' object does not support item assignment",
     "output_type": "error",
     "traceback": [
      "\u001b[1;31m---------------------------------------------------------------------------\u001b[0m",
      "\u001b[1;31mTypeError\u001b[0m                                 Traceback (most recent call last)",
      "Cell \u001b[1;32mIn[187], line 1\u001b[0m\n\u001b[1;32m----> 1\u001b[0m \u001b[43mmy_tuple\u001b[49m\u001b[43m[\u001b[49m\u001b[38;5;241;43m3\u001b[39;49m\u001b[43m]\u001b[49m \u001b[38;5;241m=\u001b[39m \u001b[38;5;241m89\u001b[39m\n\u001b[0;32m      2\u001b[0m \u001b[38;5;66;03m# can completely change the list but cannot change elements\u001b[39;00m\n",
      "\u001b[1;31mTypeError\u001b[0m: 'tuple' object does not support item assignment"
     ]
    }
   ],
   "source": [
    "my_tuple[3] = 89\n",
    "# can completely change the list but cannot change elements"
   ]
  },
  {
   "cell_type": "code",
   "execution_count": 188,
   "id": "76a97e46-e7a6-493f-826c-e71f43703a56",
   "metadata": {},
   "outputs": [
    {
     "data": {
      "text/plain": [
       "2"
      ]
     },
     "execution_count": 188,
     "metadata": {},
     "output_type": "execute_result"
    }
   ],
   "source": [
    "my_tuple.count(4)"
   ]
  },
  {
   "cell_type": "code",
   "execution_count": 189,
   "id": "76555e23-2615-4bfe-aef4-5e4bd65dcb15",
   "metadata": {},
   "outputs": [
    {
     "data": {
      "text/plain": [
       "2"
      ]
     },
     "execution_count": 189,
     "metadata": {},
     "output_type": "execute_result"
    }
   ],
   "source": [
    "my_tuple.index(4)"
   ]
  },
  {
   "cell_type": "code",
   "execution_count": null,
   "id": "56bde51c-3edc-4e5c-bdc5-bc98a47a3a9c",
   "metadata": {},
   "outputs": [],
   "source": []
  }
 ],
 "metadata": {
  "kernelspec": {
   "display_name": "Python 3 (ipykernel)",
   "language": "python",
   "name": "python3"
  },
  "language_info": {
   "codemirror_mode": {
    "name": "ipython",
    "version": 3
   },
   "file_extension": ".py",
   "mimetype": "text/x-python",
   "name": "python",
   "nbconvert_exporter": "python",
   "pygments_lexer": "ipython3",
   "version": "3.12.1"
  }
 },
 "nbformat": 4,
 "nbformat_minor": 5
}
