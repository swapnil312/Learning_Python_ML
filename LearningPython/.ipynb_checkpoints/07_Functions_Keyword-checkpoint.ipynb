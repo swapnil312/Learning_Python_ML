{
 "cells": [
  {
   "cell_type": "markdown",
   "id": "92565e0f-a66f-43f3-b2bb-2050f5188a7a",
   "metadata": {},
   "source": [
    "## Functions in Python"
   ]
  },
  {
   "cell_type": "code",
   "execution_count": 3,
   "id": "2b8d6b18-14a4-491d-aa9f-63eb138c5b68",
   "metadata": {},
   "outputs": [],
   "source": [
    "num = 24\n",
    "\n"
   ]
  },
  {
   "cell_type": "code",
   "execution_count": 4,
   "id": "23a49d32-b374-4066-a3f2-cbf412161072",
   "metadata": {},
   "outputs": [],
   "source": [
    "def even_odd(num):\n",
    "    if num%2 == 0:\n",
    "        print(\"The number is even.\")\n",
    "    else:\n",
    "        print(\"The num is odd.\")"
   ]
  },
  {
   "cell_type": "code",
   "execution_count": 5,
   "id": "452ce405-9b10-43e3-9747-70c37680ba80",
   "metadata": {},
   "outputs": [
    {
     "name": "stdout",
     "output_type": "stream",
     "text": [
      "The num is odd.\n"
     ]
    }
   ],
   "source": [
    "even_odd(79)"
   ]
  },
  {
   "cell_type": "code",
   "execution_count": 11,
   "id": "c9305786-cd0d-4fda-b53c-7729a8c19aa9",
   "metadata": {},
   "outputs": [],
   "source": [
    "def hello_world():\n",
    "    return \"Hello Welcome\""
   ]
  },
  {
   "cell_type": "code",
   "execution_count": 12,
   "id": "d7d3f967-229f-4ed6-bd14-58f62bd4a67c",
   "metadata": {},
   "outputs": [],
   "source": [
    "var = hello_world()"
   ]
  },
  {
   "cell_type": "code",
   "execution_count": 13,
   "id": "aa9e7e35-4271-4d6b-b134-c1d782dfbc27",
   "metadata": {},
   "outputs": [
    {
     "name": "stdout",
     "output_type": "stream",
     "text": [
      "Hello Welcome\n"
     ]
    }
   ],
   "source": [
    "print(var)"
   ]
  },
  {
   "cell_type": "code",
   "execution_count": 14,
   "id": "6775c061-a560-4d75-8504-aba119183781",
   "metadata": {},
   "outputs": [],
   "source": [
    "def add_numbers(num1, num2):\n",
    "    return num1+num2"
   ]
  },
  {
   "cell_type": "code",
   "execution_count": 16,
   "id": "e433bc37-d767-449e-abbc-b56bd40e87d9",
   "metadata": {},
   "outputs": [],
   "source": [
    "var = add_numbers(34,54)"
   ]
  },
  {
   "cell_type": "code",
   "execution_count": 17,
   "id": "09424171-f854-4106-b90c-95c738b65f3a",
   "metadata": {},
   "outputs": [
    {
     "data": {
      "text/plain": [
       "88"
      ]
     },
     "execution_count": 17,
     "metadata": {},
     "output_type": "execute_result"
    }
   ],
   "source": [
    "var"
   ]
  },
  {
   "cell_type": "markdown",
   "id": "b06480dc-9f13-48a0-8e56-6dacca6400df",
   "metadata": {},
   "source": [
    "##### Keyword arguements"
   ]
  },
  {
   "cell_type": "code",
   "execution_count": 32,
   "id": "c46e62a9-1431-44cd-b699-2118f68ebc9a",
   "metadata": {},
   "outputs": [],
   "source": [
    "def hello(name, age=29):\n",
    "    # name is positional arguement while age is keyword arguement\n",
    "    print(\"My name is {} and my age is {}\".format(name,age))\n",
    "    print(\"My name is\",name,\"and my age is \",age)"
   ]
  },
  {
   "cell_type": "code",
   "execution_count": 33,
   "id": "a35cfa23-609f-42b8-9537-517ef6d62113",
   "metadata": {},
   "outputs": [
    {
     "name": "stdout",
     "output_type": "stream",
     "text": [
      "My name is Swapnil and my age is 29\n",
      "My name is Swapnil and my age is  29\n"
     ]
    }
   ],
   "source": [
    "hello('Swapnil')"
   ]
  },
  {
   "cell_type": "code",
   "execution_count": 34,
   "id": "9969efb3-fddc-4107-a4a8-2eba877c522f",
   "metadata": {},
   "outputs": [
    {
     "name": "stdout",
     "output_type": "stream",
     "text": [
      "My name is Swapnil and my age is 20\n",
      "My name is Swapnil and my age is  20\n"
     ]
    }
   ],
   "source": [
    "hello('Swapnil', 20)"
   ]
  },
  {
   "cell_type": "code",
   "execution_count": 36,
   "id": "06c7e7d3-c1d4-4282-be1b-1b8d2a0158d0",
   "metadata": {},
   "outputs": [],
   "source": [
    "def hello(*args, **kwargs):\n",
    "    print(args)\n",
    "    print(kwargs)"
   ]
  },
  {
   "cell_type": "code",
   "execution_count": 37,
   "id": "5d819da0-2254-49be-89b0-e46b6045df1c",
   "metadata": {},
   "outputs": [
    {
     "name": "stdout",
     "output_type": "stream",
     "text": [
      "('Swapnil', 'Nanda')\n",
      "{'age': 18, 'dob': 2005}\n"
     ]
    }
   ],
   "source": [
    "hello(\"Swapnil\",\"Nanda\", age=18, dob=2005)"
   ]
  },
  {
   "cell_type": "code",
   "execution_count": 38,
   "id": "1a513ad5-5426-464f-b550-f13c9d8451fb",
   "metadata": {},
   "outputs": [],
   "source": [
    "lst = [\"Swapnil\",\"Nanda\"]\n",
    "dict_args = {'age': 18, 'dob': 2005}"
   ]
  },
  {
   "cell_type": "code",
   "execution_count": 39,
   "id": "30ceabeb-7644-498d-aff7-ebc1d7ecd488",
   "metadata": {},
   "outputs": [
    {
     "name": "stdout",
     "output_type": "stream",
     "text": [
      "(['Swapnil', 'Nanda'], {'age': 18, 'dob': 2005})\n",
      "{}\n"
     ]
    }
   ],
   "source": [
    "hello(lst,dict_args)"
   ]
  },
  {
   "cell_type": "code",
   "execution_count": 40,
   "id": "df94497c-c1c5-40d3-a826-14f9d6904f08",
   "metadata": {},
   "outputs": [
    {
     "name": "stdout",
     "output_type": "stream",
     "text": [
      "('Swapnil', 'Nanda')\n",
      "{'age': 18, 'dob': 2005}\n"
     ]
    }
   ],
   "source": [
    "hello(*lst,**dict_args)"
   ]
  },
  {
   "cell_type": "code",
   "execution_count": 41,
   "id": "f8fdbdc8-607e-41cb-b872-c42687dad4a9",
   "metadata": {},
   "outputs": [],
   "source": [
    "lst = [1,2,3,4,5,6,7]"
   ]
  },
  {
   "cell_type": "code",
   "execution_count": 42,
   "id": "1e8f2890-3eac-4bb0-ae01-79d311856f66",
   "metadata": {},
   "outputs": [],
   "source": [
    "def evenoddsum(lst):\n",
    "    even_sum = 0\n",
    "    odd_sum = 0\n",
    "    for i in lst:\n",
    "        if i%2 == 0:\n",
    "            even_sum+=i\n",
    "        else:\n",
    "            odd_sum+=i\n",
    "    return even_sum, odd_sum"
   ]
  },
  {
   "cell_type": "code",
   "execution_count": 43,
   "id": "37896454-db23-4263-b585-4a9be6546871",
   "metadata": {},
   "outputs": [
    {
     "data": {
      "text/plain": [
       "(12, 16)"
      ]
     },
     "execution_count": 43,
     "metadata": {},
     "output_type": "execute_result"
    }
   ],
   "source": [
    "evenoddsum(lst)"
   ]
  },
  {
   "cell_type": "code",
   "execution_count": null,
   "id": "77f580de-0e0e-420a-9de1-cda064dde573",
   "metadata": {},
   "outputs": [],
   "source": []
  },
  {
   "cell_type": "code",
   "execution_count": null,
   "id": "56aa925e-8092-430a-a002-f2284ad37a5a",
   "metadata": {},
   "outputs": [],
   "source": []
  }
 ],
 "metadata": {
  "kernelspec": {
   "display_name": "Python 3 (ipykernel)",
   "language": "python",
   "name": "python3"
  },
  "language_info": {
   "codemirror_mode": {
    "name": "ipython",
    "version": 3
   },
   "file_extension": ".py",
   "mimetype": "text/x-python",
   "name": "python",
   "nbconvert_exporter": "python",
   "pygments_lexer": "ipython3",
   "version": "3.12.1"
  }
 },
 "nbformat": 4,
 "nbformat_minor": 5
}
