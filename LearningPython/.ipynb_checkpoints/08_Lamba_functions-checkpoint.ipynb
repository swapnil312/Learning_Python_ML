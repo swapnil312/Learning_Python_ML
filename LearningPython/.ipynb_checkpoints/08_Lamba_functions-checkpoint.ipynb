{
 "cells": [
  {
   "cell_type": "markdown",
   "id": "2adbc2ef-52b4-49a0-b531-595d2f412b56",
   "metadata": {},
   "source": [
    "## Lambda function\n",
    "- Anonymous function\n",
    "- A function with no name\n",
    "- if return has a single expression"
   ]
  },
  {
   "cell_type": "code",
   "execution_count": 7,
   "id": "7aa5602b-317d-49db-aacf-cc0742fa0289",
   "metadata": {},
   "outputs": [],
   "source": [
    "def addition(a,b):\n",
    "    return a+b\n"
   ]
  },
  {
   "cell_type": "code",
   "execution_count": 8,
   "id": "18fe990f-e819-4b8e-8a8f-62af0980836a",
   "metadata": {},
   "outputs": [
    {
     "data": {
      "text/plain": [
       "10"
      ]
     },
     "execution_count": 8,
     "metadata": {},
     "output_type": "execute_result"
    }
   ],
   "source": [
    "addition(4,6)"
   ]
  },
  {
   "cell_type": "code",
   "execution_count": 9,
   "id": "b0bea66c-8c76-42f1-8e48-a0642ee9a22a",
   "metadata": {},
   "outputs": [],
   "source": [
    "addition = lambda a,b: a+b"
   ]
  },
  {
   "cell_type": "code",
   "execution_count": 10,
   "id": "bd9d49eb-adb1-4a19-ac48-2b19c162ed73",
   "metadata": {},
   "outputs": [
    {
     "data": {
      "text/plain": [
       "31"
      ]
     },
     "execution_count": 10,
     "metadata": {},
     "output_type": "execute_result"
    }
   ],
   "source": [
    "addition(12,19)"
   ]
  },
  {
   "cell_type": "code",
   "execution_count": 11,
   "id": "04149281-281f-45dc-8c66-1dbeb37b2536",
   "metadata": {},
   "outputs": [],
   "source": [
    "def even(num):\n",
    "    if num%2 == 0:\n",
    "        return True"
   ]
  },
  {
   "cell_type": "code",
   "execution_count": 12,
   "id": "5c16457f-2d8c-4c8d-8f25-4fa605e7f54c",
   "metadata": {},
   "outputs": [
    {
     "data": {
      "text/plain": [
       "True"
      ]
     },
     "execution_count": 12,
     "metadata": {},
     "output_type": "execute_result"
    }
   ],
   "source": [
    "even(56)"
   ]
  },
  {
   "cell_type": "code",
   "execution_count": 13,
   "id": "44dcca1c-a9d8-4ed0-930d-fec5f2b0ad78",
   "metadata": {},
   "outputs": [],
   "source": [
    "x = lambda num: num%2==0"
   ]
  },
  {
   "cell_type": "code",
   "execution_count": 14,
   "id": "150bb42a-c41c-43e9-a5c4-6d90755dc002",
   "metadata": {},
   "outputs": [
    {
     "data": {
      "text/plain": [
       "True"
      ]
     },
     "execution_count": 14,
     "metadata": {},
     "output_type": "execute_result"
    }
   ],
   "source": [
    "x(56)"
   ]
  },
  {
   "cell_type": "code",
   "execution_count": 15,
   "id": "e49c16a0-be86-45d0-a897-808bc7c683e8",
   "metadata": {},
   "outputs": [],
   "source": [
    "def addition(x,y,z):\n",
    "    return x+y+z"
   ]
  },
  {
   "cell_type": "code",
   "execution_count": 16,
   "id": "dcbc15a4-d126-426b-a765-076a288f3a6b",
   "metadata": {},
   "outputs": [
    {
     "data": {
      "text/plain": [
       "40"
      ]
     },
     "execution_count": 16,
     "metadata": {},
     "output_type": "execute_result"
    }
   ],
   "source": [
    "addition(2,34,4)"
   ]
  },
  {
   "cell_type": "code",
   "execution_count": 17,
   "id": "52612d31-3d37-4571-a588-4f317373f892",
   "metadata": {},
   "outputs": [],
   "source": [
    "sum = lambda x,y,z: x+y+z"
   ]
  },
  {
   "cell_type": "code",
   "execution_count": 18,
   "id": "e3da464c-05d8-4a98-87ac-0332370bdc55",
   "metadata": {},
   "outputs": [
    {
     "data": {
      "text/plain": [
       "10"
      ]
     },
     "execution_count": 18,
     "metadata": {},
     "output_type": "execute_result"
    }
   ],
   "source": [
    "sum(3,4,3)"
   ]
  },
  {
   "cell_type": "code",
   "execution_count": null,
   "id": "d1ee0d3a-c28e-4cc6-93a7-86a3aa378547",
   "metadata": {},
   "outputs": [],
   "source": []
  }
 ],
 "metadata": {
  "kernelspec": {
   "display_name": "Python 3 (ipykernel)",
   "language": "python",
   "name": "python3"
  },
  "language_info": {
   "codemirror_mode": {
    "name": "ipython",
    "version": 3
   },
   "file_extension": ".py",
   "mimetype": "text/x-python",
   "name": "python",
   "nbconvert_exporter": "python",
   "pygments_lexer": "ipython3",
   "version": "3.12.1"
  }
 },
 "nbformat": 4,
 "nbformat_minor": 5
}
