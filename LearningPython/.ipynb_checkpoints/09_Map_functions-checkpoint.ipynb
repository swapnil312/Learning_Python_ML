{
 "cells": [
  {
   "cell_type": "markdown",
   "id": "a359a271-749b-4554-82d5-ef49c1b510c0",
   "metadata": {},
   "source": [
    "## Map function"
   ]
  },
  {
   "cell_type": "code",
   "execution_count": 21,
   "id": "6d4cafac-c873-48d9-9cf6-3032c6727c34",
   "metadata": {},
   "outputs": [],
   "source": [
    "def even_odd(num):\n",
    "    if num%2 == 0:\n",
    "        return \"The number {} is even.\".format(num)\n",
    "    else:\n",
    "        return \"The number {} is odd.\".format(num)"
   ]
  },
  {
   "cell_type": "code",
   "execution_count": 22,
   "id": "21b17437-dc5c-4318-8fe1-e7c675bf0cea",
   "metadata": {},
   "outputs": [
    {
     "data": {
      "text/plain": [
       "'The number 45 is odd.'"
      ]
     },
     "execution_count": 22,
     "metadata": {},
     "output_type": "execute_result"
    }
   ],
   "source": [
    "even_odd(45)"
   ]
  },
  {
   "cell_type": "code",
   "execution_count": 23,
   "id": "4cb88780-c6d6-4fb8-b0fa-e52662729f75",
   "metadata": {},
   "outputs": [],
   "source": [
    "lst = [1,2,3,4,55,66,8,65,43,587,56]"
   ]
  },
  {
   "cell_type": "code",
   "execution_count": 27,
   "id": "c82d7d53-55b8-477f-a996-311a5d8c7afd",
   "metadata": {},
   "outputs": [],
   "source": [
    "result = set(map(even_odd, lst))"
   ]
  },
  {
   "cell_type": "code",
   "execution_count": 28,
   "id": "9a939a63-eeb6-4c2b-ad55-67660b9b561c",
   "metadata": {},
   "outputs": [
    {
     "data": {
      "text/plain": [
       "{'The number 1 is odd.',\n",
       " 'The number 2 is even.',\n",
       " 'The number 3 is odd.',\n",
       " 'The number 4 is even.',\n",
       " 'The number 43 is odd.',\n",
       " 'The number 55 is odd.',\n",
       " 'The number 56 is even.',\n",
       " 'The number 587 is odd.',\n",
       " 'The number 65 is odd.',\n",
       " 'The number 66 is even.',\n",
       " 'The number 8 is even.'}"
      ]
     },
     "execution_count": 28,
     "metadata": {},
     "output_type": "execute_result"
    }
   ],
   "source": [
    "result"
   ]
  },
  {
   "cell_type": "code",
   "execution_count": null,
   "id": "ec47bb2c-dd9b-4965-bd11-2d2d68e0ff2c",
   "metadata": {},
   "outputs": [],
   "source": []
  },
  {
   "cell_type": "code",
   "execution_count": null,
   "id": "dff3c968-6049-46d3-940e-0603a59ec40d",
   "metadata": {},
   "outputs": [],
   "source": []
  }
 ],
 "metadata": {
  "kernelspec": {
   "display_name": "Python 3 (ipykernel)",
   "language": "python",
   "name": "python3"
  },
  "language_info": {
   "codemirror_mode": {
    "name": "ipython",
    "version": 3
   },
   "file_extension": ".py",
   "mimetype": "text/x-python",
   "name": "python",
   "nbconvert_exporter": "python",
   "pygments_lexer": "ipython3",
   "version": "3.12.1"
  }
 },
 "nbformat": 4,
 "nbformat_minor": 5
}
