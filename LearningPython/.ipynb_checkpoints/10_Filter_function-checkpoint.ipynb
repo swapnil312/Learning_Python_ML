{
 "cells": [
  {
   "cell_type": "markdown",
   "id": "8a03a761-2764-4caf-ac77-6f760f09caaa",
   "metadata": {},
   "source": [
    "## Filter function"
   ]
  },
  {
   "cell_type": "code",
   "execution_count": 5,
   "id": "c347781b-4a73-4195-8332-e8d2a94bf209",
   "metadata": {},
   "outputs": [],
   "source": [
    "def even(num):\n",
    "    if num%2 == 0:\n",
    "        return True\n",
    "        "
   ]
  },
  {
   "cell_type": "code",
   "execution_count": 6,
   "id": "f412679d-f81d-4a83-abc3-426e948a9a48",
   "metadata": {},
   "outputs": [],
   "source": [
    "lst = [1,23,4,5,4,6,6,5,7,5,54,7,7,66,75]"
   ]
  },
  {
   "cell_type": "code",
   "execution_count": 7,
   "id": "24b21783-bcbc-4be2-bcaa-364714e59a07",
   "metadata": {},
   "outputs": [
    {
     "data": {
      "text/plain": [
       "<filter at 0x2b382ec4df0>"
      ]
     },
     "execution_count": 7,
     "metadata": {},
     "output_type": "execute_result"
    }
   ],
   "source": [
    "filter(even, lst)"
   ]
  },
  {
   "cell_type": "code",
   "execution_count": 9,
   "id": "0c519987-2aed-4f98-85b0-bc9a09a945bd",
   "metadata": {},
   "outputs": [
    {
     "data": {
      "text/plain": [
       "[54, 66, 4, 6]"
      ]
     },
     "execution_count": 9,
     "metadata": {},
     "output_type": "execute_result"
    }
   ],
   "source": [
    "list(set(filter(even, lst)))"
   ]
  },
  {
   "cell_type": "code",
   "execution_count": 12,
   "id": "72dd5b9b-9a12-458e-a8e6-de12a0263897",
   "metadata": {},
   "outputs": [
    {
     "data": {
      "text/plain": [
       "[54, 66, 4, 6]"
      ]
     },
     "execution_count": 12,
     "metadata": {},
     "output_type": "execute_result"
    }
   ],
   "source": [
    "list(set(filter(lambda a:a%2==0, lst)))"
   ]
  },
  {
   "cell_type": "code",
   "execution_count": 16,
   "id": "2d545c64-f072-40e4-9234-0e8dcd496826",
   "metadata": {},
   "outputs": [
    {
     "data": {
      "text/plain": [
       "(False,\n",
       " False,\n",
       " True,\n",
       " False,\n",
       " True,\n",
       " True,\n",
       " True,\n",
       " False,\n",
       " False,\n",
       " False,\n",
       " True,\n",
       " False,\n",
       " False,\n",
       " True,\n",
       " False)"
      ]
     },
     "execution_count": 16,
     "metadata": {},
     "output_type": "execute_result"
    }
   ],
   "source": [
    "tuple(map(lambda a:a%2==0, lst))"
   ]
  },
  {
   "cell_type": "code",
   "execution_count": null,
   "id": "2b8f1d14-0129-4939-9200-dd354cc8e8e5",
   "metadata": {},
   "outputs": [],
   "source": []
  }
 ],
 "metadata": {
  "kernelspec": {
   "display_name": "Python 3 (ipykernel)",
   "language": "python",
   "name": "python3"
  },
  "language_info": {
   "codemirror_mode": {
    "name": "ipython",
    "version": 3
   },
   "file_extension": ".py",
   "mimetype": "text/x-python",
   "name": "python",
   "nbconvert_exporter": "python",
   "pygments_lexer": "ipython3",
   "version": "3.12.1"
  }
 },
 "nbformat": 4,
 "nbformat_minor": 5
}
